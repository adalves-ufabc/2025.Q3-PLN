{
  "nbformat": 4,
  "nbformat_minor": 0,
  "metadata": {
    "colab": {
      "provenance": [],
      "authorship_tag": "ABX9TyOfuCLVv96k7HuuO2Gj8eMW",
      "include_colab_link": true
    },
    "kernelspec": {
      "name": "python3",
      "display_name": "Python 3"
    }
  },
  "cells": [
    {
      "cell_type": "markdown",
      "metadata": {
        "id": "view-in-github",
        "colab_type": "text"
      },
      "source": [
        "<a href=\"https://colab.research.google.com/github/adalves-ufabc/2025.Q3-PLN/blob/main/2025_Q3_PLN_AULA_06_Notebook_07.ipynb\" target=\"_parent\"><img src=\"https://colab.research.google.com/assets/colab-badge.svg\" alt=\"Open In Colab\"/></a>"
      ]
    },
    {
      "cell_type": "markdown",
      "metadata": {
        "id": "Y6QILOdpOjwv"
      },
      "source": [
        "# **Processamento de Linguagem Natural [2025-Q3]**\n",
        "Prof. Alexandre Donizeti Alves"
      ]
    },
    {
      "cell_type": "markdown",
      "metadata": {
        "id": "nmK05FgcOzL2"
      },
      "source": [
        "## **Modelos de Linguagem com N-gramas**\n",
        "---\n",
        "\n"
      ]
    },
    {
      "cell_type": "markdown",
      "source": [
        "Um **Modelo de Linguagem com N-gramas** é um tipo de modelo estatístico usado em PLN para prever a probabilidade de uma sequência de palavras ocorrer em um determinado contexto.\n",
        "\n"
      ],
      "metadata": {
        "id": "YKeqSx2qOxPW"
      }
    },
    {
      "cell_type": "markdown",
      "source": [
        "O \"**N**\" em \"**N-grama**\" refere-se ao número de palavras que o modelo leva em consideração de cada vez para fazer suas previsões."
      ],
      "metadata": {
        "id": "VZYZZckn1FJ9"
      }
    },
    {
      "cell_type": "markdown",
      "source": [
        "O **Modelo de Linguagem com N-gramas** funciona calculando a probabilidade condicional de uma palavra dada as **n-1** palavras anteriores. Isso é conhecido como **Modelo de Markov** de ordem **n-1**, onde **n-1** é o número de palavras que o modelo leva em consideração para prever a próxima palavra."
      ],
      "metadata": {
        "id": "mJgoGOjh1Frs"
      }
    },
    {
      "cell_type": "markdown",
      "source": [
        "Vamos supor que temos o seguinte conjunto de frases (córpus):\n",
        "\n",
        "    \"Eu gosto de estudar matemática.\"\n",
        "    \"Matemática é minha matéria favorita na escola.\"\n",
        "    \"Eu sempre tive dificuldade em matemática.\"\n",
        "\n"
      ],
      "metadata": {
        "id": "Wfor8fHiB4hq"
      }
    },
    {
      "cell_type": "markdown",
      "source": [
        "Podemos usar um **Modelo de Linguagem com N-gramas** para prever a probabilidade de uma palavra aparecer dado o contexto de palavras que a antecedem. Por exemplo, se usarmos um modelo de linguagem com `2-gramas`, podemos calcular a probabilidade de uma palavra aparecer dado a palavra anterior.\n",
        "\n"
      ],
      "metadata": {
        "id": "_EuMqhP71ugU"
      }
    },
    {
      "cell_type": "markdown",
      "source": [
        "Assim, se quisermos prever a próxima palavra após **`Eu gosto de`**, usamos o modelo de linguagem com `2-gramas` para calcular a probabilidade condicional da próxima palavra, que seria:\n",
        "\n",
        "    Probabilidade de \"estudar\" dado \"Eu gosto de\" = 1/1 = 100%\n",
        "    Probabilidade de \"ler\" dado \"Eu gosto de\" = 0/1 = 0%\n",
        "\n"
      ],
      "metadata": {
        "id": "-YYd_LzM1xss"
      }
    },
    {
      "cell_type": "markdown",
      "source": [
        "Nesse caso, o modelo prevê que a próxima palavra após **`Eu gosto de`** será **`estudar`** com 100% de probabilidade, já que é a única palavra que aparece após esse conjunto de palavras nas frases fornecidas.\n",
        "\n"
      ],
      "metadata": {
        "id": "7j8kc5VX2J4v"
      }
    },
    {
      "cell_type": "markdown",
      "source": [
        "Esse é apenas um exemplo simplificado para ilustrar como um modelo de linguagem com n-gramas funciona. Na prática, usamos modelos mais complexos com um grande número de frases e palavras para criar modelos de linguagem mais precisos."
      ],
      "metadata": {
        "id": "m6xHA1AE2lYD"
      }
    },
    {
      "cell_type": "markdown",
      "source": [
        "**NLTK**"
      ],
      "metadata": {
        "id": "6EyG4LSJMBV_"
      }
    },
    {
      "cell_type": "markdown",
      "source": [
        "Vamos ver um exemplo de como extrair **`n-gramas`** usando a biblioteca `NLTK` em `Python`. Suponha que temos o seguinte texto:"
      ],
      "metadata": {
        "id": "cRqaGyVoMM-f"
      }
    },
    {
      "cell_type": "code",
      "source": [
        "texto = \"O cachorro correu pelo parque e brincou com a bola\""
      ],
      "metadata": {
        "id": "oCOwJ1wNMFRa"
      },
      "execution_count": null,
      "outputs": []
    },
    {
      "cell_type": "markdown",
      "source": [
        "Podemos extrair os **bigramas** (**`2-gramas`**) do texto da seguinte maneira:"
      ],
      "metadata": {
        "id": "Q8LbvyZ1Maqa"
      }
    },
    {
      "cell_type": "code",
      "source": [
        "from nltk.util import ngrams\n",
        "\n",
        "# tokenizar o texto\n",
        "texto_tokenizado = texto.split()\n",
        "\n",
        "# gerar os bigramas\n",
        "bigramas = ngrams(texto_tokenizado, 2)"
      ],
      "metadata": {
        "id": "BFfzlbX4MbyX"
      },
      "execution_count": null,
      "outputs": []
    },
    {
      "cell_type": "code",
      "source": [
        "# imprimir bigramas\n",
        "for bigrama in bigramas:\n",
        "    print(bigrama)"
      ],
      "metadata": {
        "colab": {
          "base_uri": "https://localhost:8080/"
        },
        "id": "dOXSo1UP3MB2",
        "outputId": "2a8d6d85-b2f0-4576-b5fb-5ef061f24a55"
      },
      "execution_count": null,
      "outputs": [
        {
          "output_type": "stream",
          "name": "stdout",
          "text": [
            "('O', 'cachorro')\n",
            "('cachorro', 'correu')\n",
            "('correu', 'pelo')\n",
            "('pelo', 'parque')\n",
            "('parque', 'e')\n",
            "('e', 'brincou')\n",
            "('brincou', 'com')\n",
            "('com', 'a')\n",
            "('a', 'bola')\n"
          ]
        }
      ]
    },
    {
      "cell_type": "markdown",
      "source": [
        "De maneira similar, podemos extrair trigramas e quadrigramas, por exemplo:"
      ],
      "metadata": {
        "id": "KoRirr6cOJUO"
      }
    },
    {
      "cell_type": "code",
      "source": [
        "# gerar os trigramas\n",
        "trigramas = ngrams(texto_tokenizado, 3)\n",
        "\n",
        "# imprimir os trigramas\n",
        "for trigrama in trigramas:\n",
        "    print(trigrama)"
      ],
      "metadata": {
        "colab": {
          "base_uri": "https://localhost:8080/"
        },
        "id": "LJcOB_zOMqgm",
        "outputId": "b02820a8-a1f7-4393-daa6-cc0e8ae35db4"
      },
      "execution_count": null,
      "outputs": [
        {
          "output_type": "stream",
          "name": "stdout",
          "text": [
            "('O', 'cachorro', 'correu')\n",
            "('cachorro', 'correu', 'pelo')\n",
            "('correu', 'pelo', 'parque')\n",
            "('pelo', 'parque', 'e')\n",
            "('parque', 'e', 'brincou')\n",
            "('e', 'brincou', 'com')\n",
            "('brincou', 'com', 'a')\n",
            "('com', 'a', 'bola')\n"
          ]
        }
      ]
    },
    {
      "cell_type": "code",
      "source": [
        "# gerar os quadrigramas\n",
        "quadrigramas = ngrams(texto_tokenizado, 4)\n",
        "\n",
        "# imprimir os quadrigramas\n",
        "for quadrigrama in quadrigramas:\n",
        "    print(quadrigrama)"
      ],
      "metadata": {
        "colab": {
          "base_uri": "https://localhost:8080/"
        },
        "id": "DJreVWOaMspC",
        "outputId": "181937c7-ebe7-4f8b-836b-b9df0b203feb"
      },
      "execution_count": null,
      "outputs": [
        {
          "output_type": "stream",
          "name": "stdout",
          "text": [
            "('O', 'cachorro', 'correu', 'pelo')\n",
            "('cachorro', 'correu', 'pelo', 'parque')\n",
            "('correu', 'pelo', 'parque', 'e')\n",
            "('pelo', 'parque', 'e', 'brincou')\n",
            "('parque', 'e', 'brincou', 'com')\n",
            "('e', 'brincou', 'com', 'a')\n",
            "('brincou', 'com', 'a', 'bola')\n"
          ]
        }
      ]
    },
    {
      "cell_type": "markdown",
      "source": [
        "**TextBlob**"
      ],
      "metadata": {
        "id": "76gY7cvLNU7B"
      }
    },
    {
      "cell_type": "code",
      "source": [
        "import nltk\n",
        "\n",
        "nltk.download('punkt')\n",
        "nltk.download('punkt_tab')"
      ],
      "metadata": {
        "colab": {
          "base_uri": "https://localhost:8080/"
        },
        "id": "ZOUPjf_-347r",
        "outputId": "62e0883c-84d7-4825-e249-8e530e377ff3"
      },
      "execution_count": null,
      "outputs": [
        {
          "output_type": "stream",
          "name": "stderr",
          "text": [
            "[nltk_data] Downloading package punkt to /root/nltk_data...\n",
            "[nltk_data]   Package punkt is already up-to-date!\n",
            "[nltk_data] Downloading package punkt_tab to /root/nltk_data...\n",
            "[nltk_data]   Unzipping tokenizers/punkt_tab.zip.\n"
          ]
        },
        {
          "output_type": "execute_result",
          "data": {
            "text/plain": [
              "True"
            ]
          },
          "metadata": {},
          "execution_count": 8
        }
      ]
    },
    {
      "cell_type": "code",
      "source": [
        "from textblob import TextBlob\n",
        "\n",
        "text = \"O cachorro correu pelo parque e brincou com a bola\"\n",
        "blob = TextBlob(text)\n",
        "\n",
        "# gerar os bigramas\n",
        "bigramas = list(blob.ngrams(2))\n",
        "\n",
        "print(bigramas)"
      ],
      "metadata": {
        "colab": {
          "base_uri": "https://localhost:8080/"
        },
        "id": "7R0bXRFVNz90",
        "outputId": "96e80216-9462-411c-d68d-03608709b42a"
      },
      "execution_count": null,
      "outputs": [
        {
          "output_type": "stream",
          "name": "stdout",
          "text": [
            "[WordList(['O', 'cachorro']), WordList(['cachorro', 'correu']), WordList(['correu', 'pelo']), WordList(['pelo', 'parque']), WordList(['parque', 'e']), WordList(['e', 'brincou']), WordList(['brincou', 'com']), WordList(['com', 'a']), WordList(['a', 'bola'])]\n"
          ]
        }
      ]
    },
    {
      "cell_type": "code",
      "source": [
        "# gerar os trigramas\n",
        "trigramas = list(blob.ngrams(3))\n",
        "\n",
        "print(trigramas)"
      ],
      "metadata": {
        "colab": {
          "base_uri": "https://localhost:8080/"
        },
        "id": "24yPe9bVN5yp",
        "outputId": "28857642-7488-41fb-fabd-ceee63a20660"
      },
      "execution_count": null,
      "outputs": [
        {
          "output_type": "stream",
          "name": "stdout",
          "text": [
            "[WordList(['O', 'cachorro', 'correu']), WordList(['cachorro', 'correu', 'pelo']), WordList(['correu', 'pelo', 'parque']), WordList(['pelo', 'parque', 'e']), WordList(['parque', 'e', 'brincou']), WordList(['e', 'brincou', 'com']), WordList(['brincou', 'com', 'a']), WordList(['com', 'a', 'bola'])]\n"
          ]
        }
      ]
    },
    {
      "cell_type": "code",
      "source": [
        "for trigrama in trigramas:\n",
        "    print(trigrama)"
      ],
      "metadata": {
        "colab": {
          "base_uri": "https://localhost:8080/"
        },
        "id": "dfSAapJZ2fGU",
        "outputId": "34287c54-fbf8-43f4-e7e8-5acc10ad0885"
      },
      "execution_count": null,
      "outputs": [
        {
          "output_type": "stream",
          "name": "stdout",
          "text": [
            "['O', 'cachorro', 'correu']\n",
            "['cachorro', 'correu', 'pelo']\n",
            "['correu', 'pelo', 'parque']\n",
            "['pelo', 'parque', 'e']\n",
            "['parque', 'e', 'brincou']\n",
            "['e', 'brincou', 'com']\n",
            "['brincou', 'com', 'a']\n",
            "['com', 'a', 'bola']\n"
          ]
        }
      ]
    },
    {
      "cell_type": "markdown",
      "source": [
        "**Scikit-learn**"
      ],
      "metadata": {
        "id": "p6Q4wXkBQew5"
      }
    },
    {
      "cell_type": "markdown",
      "source": [
        "Aqui está um exemplo simples de como extrair **bigramas** usando a biblioteca `Scikit-learn` em `Python`:"
      ],
      "metadata": {
        "id": "NR9qP5XJQ_Zo"
      }
    },
    {
      "cell_type": "code",
      "source": [
        "from sklearn.feature_extraction.text import CountVectorizer\n",
        "\n",
        "# definir os documentos (corpus)\n",
        "documentos = [\"o cachorro correu pelo parque\",\n",
        "             \"o cachorro brincou com a bola\",\n",
        "             \"a bola era azul\"]\n",
        "\n",
        "# criar o vetorizador de n-gramas\n",
        "vetorizador = CountVectorizer(ngram_range=(2,2))\n",
        "\n",
        "# extrair os bigramas\n",
        "vetorizador.fit_transform(documentos)"
      ],
      "metadata": {
        "colab": {
          "base_uri": "https://localhost:8080/"
        },
        "id": "fgVEQsVMQ50w",
        "outputId": "1190aabe-d430-43fb-f8bb-75a915569b02"
      },
      "execution_count": null,
      "outputs": [
        {
          "output_type": "execute_result",
          "data": {
            "text/plain": [
              "<Compressed Sparse Row sparse matrix of dtype 'int64'\n",
              "\twith 8 stored elements and shape (3, 8)>"
            ]
          },
          "metadata": {},
          "execution_count": 12
        }
      ]
    },
    {
      "cell_type": "code",
      "source": [
        "# imprimir os bigramas\n",
        "print(vetorizador.get_feature_names_out())"
      ],
      "metadata": {
        "colab": {
          "base_uri": "https://localhost:8080/"
        },
        "id": "1nMGoKs_4aFt",
        "outputId": "0128b1f3-c82f-4bd5-96df-6843698b14ac"
      },
      "execution_count": null,
      "outputs": [
        {
          "output_type": "stream",
          "name": "stdout",
          "text": [
            "['bola era' 'brincou com' 'cachorro brincou' 'cachorro correu' 'com bola'\n",
            " 'correu pelo' 'era azul' 'pelo parque']\n"
          ]
        }
      ]
    },
    {
      "cell_type": "markdown",
      "source": [
        "Neste exemplo, usamos a classe `CountVectorizer` da biblioteca `Scikit-learn` para criar um vetorizador de bigramas a partir de uma lista de documentos de exemplo. Passamos o argumento `ngram_range=(2,2)` para especificar que queremos bigramas, e chamamos o método `fit_transform `para extrair os bigramas dos documentos. Finalmente, imprimimos os bigramas usando o método `get_feature_names_out` do vetorizador."
      ],
      "metadata": {
        "id": "90Q72nPsRTau"
      }
    },
    {
      "cell_type": "markdown",
      "source": [
        "Aqui está um exemplo simples de como extrair **trigramas** usando a biblioteca `Scikit-learn` em `Python`:"
      ],
      "metadata": {
        "id": "knt3wt5HRF6O"
      }
    },
    {
      "cell_type": "code",
      "source": [
        "from sklearn.feature_extraction.text import CountVectorizer\n",
        "\n",
        "# definir os documentos (corpus)\n",
        "documentos = [\"o cachorro correu pelo parque\",\n",
        "             \"o cachorro brincou com a bola\",\n",
        "             \"a bola era azul\"]\n",
        "\n",
        "# criar o vetorizador de n-gramas\n",
        "vetorizador = CountVectorizer(ngram_range=(3,3))\n",
        "\n",
        "# extrai os trigramas\n",
        "vetorizador.fit_transform(documentos)\n",
        "\n",
        "# imprimir os trigramas\n",
        "print(vetorizador.get_feature_names_out())"
      ],
      "metadata": {
        "colab": {
          "base_uri": "https://localhost:8080/"
        },
        "id": "6P5HjmfNQgWF",
        "outputId": "0078ea44-0b2f-46c9-91b9-b0d2ca94d508"
      },
      "execution_count": null,
      "outputs": [
        {
          "output_type": "stream",
          "name": "stdout",
          "text": [
            "['bola era azul' 'brincou com bola' 'cachorro brincou com'\n",
            " 'cachorro correu pelo' 'correu pelo parque']\n"
          ]
        }
      ]
    },
    {
      "cell_type": "markdown",
      "source": [
        "Aqui está um exemplo de como extrair **unigramas** e **bigramas** usando a biblioteca `Scikit-learn` em `Python`:"
      ],
      "metadata": {
        "id": "N9Jz8kUoR9K7"
      }
    },
    {
      "cell_type": "code",
      "source": [
        "from sklearn.feature_extraction.text import CountVectorizer\n",
        "\n",
        "# definir os documentos (corpus)\n",
        "avaliacoes = [\"Este filme é incrível, recomendo para todos!\",\n",
        "              \"Muito bom, gostei bastante\",\n",
        "              \"Não gostei muito do filme, achei meio parado\",\n",
        "              \"Uma experiência horrível, não assistam!\",\n",
        "              \"Maravilhoso, não vejo a hora de assistir de novo!\"]\n",
        "\n",
        "# criar o vetorizador de unigramas e bigramas\n",
        "vetorizador = CountVectorizer(ngram_range=(1,2))\n",
        "\n",
        "# extrair os unigramas e bigramas\n",
        "vetorizador.fit_transform(avaliacoes)"
      ],
      "metadata": {
        "colab": {
          "base_uri": "https://localhost:8080/"
        },
        "id": "0_i-6u1jR1vE",
        "outputId": "db741034-40a7-4bbc-f097-ee747bcf529e"
      },
      "execution_count": null,
      "outputs": [
        {
          "output_type": "execute_result",
          "data": {
            "text/plain": [
              "<Compressed Sparse Row sparse matrix of dtype 'int64'\n",
              "\twith 56 stored elements and shape (5, 51)>"
            ]
          },
          "metadata": {},
          "execution_count": 15
        }
      ]
    },
    {
      "cell_type": "code",
      "source": [
        "# imprimir os unigramas e bigramas extraídos\n",
        "print(\"Unigramas e bigramas:\")\n",
        "print(len(vetorizador.get_feature_names_out()))\n",
        "print(vetorizador.get_feature_names_out())"
      ],
      "metadata": {
        "colab": {
          "base_uri": "https://localhost:8080/"
        },
        "id": "b8SnsS1d6CvX",
        "outputId": "0ba223c6-5a83-4fb3-f7b5-fc6d013ea078"
      },
      "execution_count": null,
      "outputs": [
        {
          "output_type": "stream",
          "name": "stdout",
          "text": [
            "Unigramas e bigramas:\n",
            "51\n",
            "['achei' 'achei meio' 'assistam' 'assistir' 'assistir de' 'bastante' 'bom'\n",
            " 'bom gostei' 'de' 'de assistir' 'de novo' 'do' 'do filme' 'este'\n",
            " 'este filme' 'experiência' 'experiência horrível' 'filme' 'filme achei'\n",
            " 'filme incrível' 'gostei' 'gostei bastante' 'gostei muito' 'hora'\n",
            " 'hora de' 'horrível' 'horrível não' 'incrível' 'incrível recomendo'\n",
            " 'maravilhoso' 'maravilhoso não' 'meio' 'meio parado' 'muito' 'muito bom'\n",
            " 'muito do' 'novo' 'não' 'não assistam' 'não gostei' 'não vejo' 'para'\n",
            " 'para todos' 'parado' 'recomendo' 'recomendo para' 'todos' 'uma'\n",
            " 'uma experiência' 'vejo' 'vejo hora']\n"
          ]
        }
      ]
    },
    {
      "cell_type": "markdown",
      "source": [
        "## **Exemplos**\n",
        "---"
      ],
      "metadata": {
        "id": "xdEMV1i9PDS-"
      }
    },
    {
      "cell_type": "markdown",
      "source": [
        "Suponha que temos o seguinte córpus:"
      ],
      "metadata": {
        "id": "xHB17bHDKLxQ"
      }
    },
    {
      "cell_type": "code",
      "source": [
        "dados = [\"o rato roeu a roupa do rei de roma\",\n",
        "         \"uma casa de papel\",\n",
        "         \"o rato comeu o queijo\",\n",
        "         \"o cachorro late muito\",\n",
        "         \"o rato roeu livremente\",\n",
        "         \"a janela quebrou\",\n",
        "         \"a porta está aberta\"]"
      ],
      "metadata": {
        "id": "ZCHiBDglJ3Pg"
      },
      "execution_count": null,
      "outputs": []
    },
    {
      "cell_type": "markdown",
      "source": [
        "Nosso objetivo é construir um **Modelo de Linguagem** com base nos **`n-gramas`** dessas frases e usá-lo para prever a próxima palavra em uma dada frase.\n",
        "\n"
      ],
      "metadata": {
        "id": "SHmY4W7hKiub"
      }
    },
    {
      "cell_type": "markdown",
      "source": [
        "Para isso, vamos usar a biblioteca **`NLTK`** em `Python` para tokenizar as frases em palavras e construir os **`n-gramas`**."
      ],
      "metadata": {
        "id": "5KIn7-Fl6c87"
      }
    },
    {
      "cell_type": "code",
      "source": [
        "import nltk\n",
        "\n",
        "nltk.download('punkt')\n",
        "nltk.download('punkt_tab')"
      ],
      "metadata": {
        "colab": {
          "base_uri": "https://localhost:8080/"
        },
        "id": "phkdn4AKJ-kM",
        "outputId": "306c49d6-9354-4889-9a6c-d82b18e25f05"
      },
      "execution_count": null,
      "outputs": [
        {
          "output_type": "stream",
          "name": "stderr",
          "text": [
            "[nltk_data] Downloading package punkt to /root/nltk_data...\n",
            "[nltk_data]   Package punkt is already up-to-date!\n",
            "[nltk_data] Downloading package punkt_tab to /root/nltk_data...\n",
            "[nltk_data]   Package punkt_tab is already up-to-date!\n"
          ]
        },
        {
          "output_type": "execute_result",
          "data": {
            "text/plain": [
              "True"
            ]
          },
          "metadata": {},
          "execution_count": 18
        }
      ]
    },
    {
      "cell_type": "code",
      "source": [
        "import nltk\n",
        "from nltk.util import ngrams\n",
        "from collections import Counter"
      ],
      "metadata": {
        "id": "ycSyu4qz7zF6"
      },
      "execution_count": null,
      "outputs": []
    },
    {
      "cell_type": "code",
      "source": [
        "# tokenizar as frases\n",
        "dados_tokenizados = [nltk.word_tokenize(sentenca) for sentenca in dados]\n",
        "\n",
        "# criar os bigramas\n",
        "bigramas = []\n",
        "for sentenca in dados_tokenizados:\n",
        "    bigramas_sentenca = ngrams(sentenca, 2)\n",
        "    bigramas.extend(bigramas_sentenca)\n",
        "\n",
        "# contagem dos bigramas\n",
        "contagem_bigramas = Counter(bigramas)"
      ],
      "metadata": {
        "id": "vtJwAR73J6ap"
      },
      "execution_count": null,
      "outputs": []
    },
    {
      "cell_type": "code",
      "source": [
        "contagem_bigramas"
      ],
      "metadata": {
        "colab": {
          "base_uri": "https://localhost:8080/"
        },
        "id": "PNEtpnuhAWQb",
        "outputId": "52de6b3c-067c-46dd-9894-48057badd522"
      },
      "execution_count": null,
      "outputs": [
        {
          "output_type": "execute_result",
          "data": {
            "text/plain": [
              "Counter({('o', 'rato'): 3,\n",
              "         ('rato', 'roeu'): 2,\n",
              "         ('roeu', 'a'): 1,\n",
              "         ('a', 'roupa'): 1,\n",
              "         ('roupa', 'do'): 1,\n",
              "         ('do', 'rei'): 1,\n",
              "         ('rei', 'de'): 1,\n",
              "         ('de', 'roma'): 1,\n",
              "         ('uma', 'casa'): 1,\n",
              "         ('casa', 'de'): 1,\n",
              "         ('de', 'papel'): 1,\n",
              "         ('rato', 'comeu'): 1,\n",
              "         ('comeu', 'o'): 1,\n",
              "         ('o', 'queijo'): 1,\n",
              "         ('o', 'cachorro'): 1,\n",
              "         ('cachorro', 'late'): 1,\n",
              "         ('late', 'muito'): 1,\n",
              "         ('roeu', 'livremente'): 1,\n",
              "         ('a', 'janela'): 1,\n",
              "         ('janela', 'quebrou'): 1,\n",
              "         ('a', 'porta'): 1,\n",
              "         ('porta', 'está'): 1,\n",
              "         ('está', 'aberta'): 1})"
            ]
          },
          "metadata": {},
          "execution_count": 21
        }
      ]
    },
    {
      "cell_type": "code",
      "source": [
        "# calcular as probabilidades condicionais\n",
        "def predicao_proxima_palavra(palavra, contagem_bigramas):\n",
        "    proximas_palavras_possiveis = []\n",
        "    for bigrama in contagem_bigramas:\n",
        "        if bigrama[0] == palavra:\n",
        "            proximas_palavras_possiveis.append((bigrama[1], contagem_bigramas[bigrama]))\n",
        "    return proximas_palavras_possiveis"
      ],
      "metadata": {
        "id": "zL_9SP2u7Chd"
      },
      "execution_count": null,
      "outputs": []
    },
    {
      "cell_type": "markdown",
      "source": [
        "Neste exemplo, estamos construindo um modelo de bigramas e testando-o com a palavra **`rato`**."
      ],
      "metadata": {
        "id": "R26W6ijELwtM"
      }
    },
    {
      "cell_type": "markdown",
      "source": [
        "O modelo retorna uma lista das possíveis palavras seguintes, juntamente com a frequência de cada bigrama observado nos dados:"
      ],
      "metadata": {
        "id": "q9GRKixq7g2d"
      }
    },
    {
      "cell_type": "code",
      "source": [
        "# teste do modelo\n",
        "print(predicao_proxima_palavra(\"rato\", contagem_bigramas))"
      ],
      "metadata": {
        "colab": {
          "base_uri": "https://localhost:8080/"
        },
        "id": "zSYdPCUaKrkJ",
        "outputId": "6cc13cf0-f5f5-4325-e68a-f76312670030"
      },
      "execution_count": null,
      "outputs": [
        {
          "output_type": "stream",
          "name": "stdout",
          "text": [
            "[('roeu', 2), ('comeu', 1)]\n"
          ]
        }
      ]
    },
    {
      "cell_type": "markdown",
      "source": [
        "Aqui está outro exemplo que usa um modelo de linguagem com bigramas para prever a próxima palavra em uma frase:"
      ],
      "metadata": {
        "id": "XnFnuXMWY9dN"
      }
    },
    {
      "cell_type": "code",
      "source": [
        "from nltk.util import ngrams\n",
        "from collections import defaultdict"
      ],
      "metadata": {
        "id": "vnKtOnDh8AFi"
      },
      "execution_count": null,
      "outputs": []
    },
    {
      "cell_type": "code",
      "source": [
        "# texto\n",
        "texto = \"O rato roeu a roupa do rei de Roma. E a rainha ficou só.\"\n",
        "\n",
        "# treinar modelo de linguagem com bigramas\n",
        "tokens = nltk.word_tokenize(texto.lower())\n",
        "bigramas = list(ngrams(tokens, 2))\n",
        "\n",
        "modelo = defaultdict(lambda: defaultdict(lambda: 0))\n",
        "for w1, w2 in bigramas:\n",
        "    modelo[w1][w2] += 1"
      ],
      "metadata": {
        "id": "xq6GlTcSY8xC"
      },
      "execution_count": null,
      "outputs": []
    },
    {
      "cell_type": "code",
      "source": [
        "# prever a proxima palavra em uma frase\n",
        "def predicao_proxima_palavra(sentenca):\n",
        "\n",
        "    tokens = nltk.word_tokenize(sentenca.lower())\n",
        "\n",
        "    ultima_palavra = tokens[-1]\n",
        "    probabilidade_proxima_palavra = modelo[ultima_palavra]\n",
        "    if len(probabilidade_proxima_palavra) == 0:\n",
        "        return None\n",
        "    return max(probabilidade_proxima_palavra, key=probabilidade_proxima_palavra.get)"
      ],
      "metadata": {
        "id": "fHwYTEE68Q4i"
      },
      "execution_count": null,
      "outputs": []
    },
    {
      "cell_type": "code",
      "source": [
        "# teste\n",
        "sentenca = \"O rato roeu a roupa do\"\n",
        "\n",
        "proxima_palavra = predicao_proxima_palavra(sentenca)\n",
        "\n",
        "print(f\"A próxima palavra em '{sentenca}' é '{proxima_palavra}'.\")"
      ],
      "metadata": {
        "colab": {
          "base_uri": "https://localhost:8080/"
        },
        "id": "48WM8Nvc8RRa",
        "outputId": "980af7b7-68c8-495b-8764-e3fbe4ca98db"
      },
      "execution_count": null,
      "outputs": [
        {
          "output_type": "stream",
          "name": "stdout",
          "text": [
            "A próxima palavra em 'O rato roeu a roupa do' é 'rei'.\n"
          ]
        }
      ]
    },
    {
      "cell_type": "markdown",
      "source": [
        "Aqui está um exemplo que usa um modelo de linguagem com **trigramas** para prever a próxima palavra com base em duas palavras anteriores:"
      ],
      "metadata": {
        "id": "a9MemtUOaauD"
      }
    },
    {
      "cell_type": "code",
      "source": [
        "import nltk\n",
        "\n",
        "# texto\n",
        "texto = \"O rato roeu a roupa do rei de Roma. E a rainha ficou só.\"\n",
        "\n",
        "# tokenizar palavras e criar trigramas\n",
        "tokens = nltk.word_tokenize(texto.lower())\n",
        "trigramas = list(nltk.trigrams(tokens))"
      ],
      "metadata": {
        "id": "dG0s-AhWaT5b"
      },
      "execution_count": null,
      "outputs": []
    },
    {
      "cell_type": "code",
      "source": [
        "# criar dicionario de trigramas com suas frequências\n",
        "trigramas_contagem = {}\n",
        "for trigrama in trigramas:\n",
        "    if trigrama[:2] not in trigramas_contagem:\n",
        "        trigramas_contagem[trigrama[:2]] = {}\n",
        "    if trigrama[2] not in trigramas_contagem[trigrama[:2]]:\n",
        "        trigramas_contagem[trigrama[:2]][trigrama[2]] = 0\n",
        "    trigramas_contagem[trigrama[:2]][trigrama[2]] += 1"
      ],
      "metadata": {
        "id": "71r8B6h-AWIu"
      },
      "execution_count": null,
      "outputs": []
    },
    {
      "cell_type": "code",
      "source": [
        "trigramas_contagem"
      ],
      "metadata": {
        "colab": {
          "base_uri": "https://localhost:8080/"
        },
        "id": "3Q9pp_pFAc9N",
        "outputId": "69c9f851-8e62-4558-aeb9-07ead653c407"
      },
      "execution_count": null,
      "outputs": [
        {
          "output_type": "execute_result",
          "data": {
            "text/plain": [
              "{('o', 'rato'): {'roeu': 1},\n",
              " ('rato', 'roeu'): {'a': 1},\n",
              " ('roeu', 'a'): {'roupa': 1},\n",
              " ('a', 'roupa'): {'do': 1},\n",
              " ('roupa', 'do'): {'rei': 1},\n",
              " ('do', 'rei'): {'de': 1},\n",
              " ('rei', 'de'): {'roma': 1},\n",
              " ('de', 'roma'): {'.': 1},\n",
              " ('roma', '.'): {'e': 1},\n",
              " ('.', 'e'): {'a': 1},\n",
              " ('e', 'a'): {'rainha': 1},\n",
              " ('a', 'rainha'): {'ficou': 1},\n",
              " ('rainha', 'ficou'): {'só': 1},\n",
              " ('ficou', 'só'): {'.': 1}}"
            ]
          },
          "metadata": {},
          "execution_count": 30
        }
      ]
    },
    {
      "cell_type": "code",
      "source": [
        "# funcao para prever proxima palavra com base em duas palavras anteriores\n",
        "def predicao_proxima_palavra(palavra_anterior1, palavra_anterior2):\n",
        "    if (palavra_anterior1, palavra_anterior2) not in trigramas_contagem:\n",
        "        return None\n",
        "    proxima_palavra = max(trigramas_contagem[(palavra_anterior1, palavra_anterior2)],\n",
        "                          key=trigramas_contagem[(palavra_anterior1, palavra_anterior2)].get)\n",
        "    return proxima_palavra"
      ],
      "metadata": {
        "id": "7sB2DKxrAWiz"
      },
      "execution_count": null,
      "outputs": []
    },
    {
      "cell_type": "code",
      "source": [
        "# testar a funcao com algumas palavras\n",
        "print(predicao_proxima_palavra('a', 'roupa'))\n",
        "print(predicao_proxima_palavra('o', 'rato'))\n",
        "print(predicao_proxima_palavra('de', 'roma'))"
      ],
      "metadata": {
        "colab": {
          "base_uri": "https://localhost:8080/"
        },
        "id": "tADY0YsPAW2T",
        "outputId": "6d90ea52-3db1-4f85-d9b3-327a1b865d96"
      },
      "execution_count": null,
      "outputs": [
        {
          "output_type": "stream",
          "name": "stdout",
          "text": [
            "do\n",
            "roeu\n",
            ".\n"
          ]
        }
      ]
    },
    {
      "cell_type": "markdown",
      "source": [
        "**NLTK**"
      ],
      "metadata": {
        "id": "5ilwgz8KBbjU"
      }
    },
    {
      "cell_type": "markdown",
      "source": [
        "Vamoso agora criar um modelo de linguagem com **`n-gramas`** usando a biblioteca `NLTK` do `Python`."
      ],
      "metadata": {
        "id": "XjN0NOqrFyX1"
      }
    },
    {
      "cell_type": "markdown",
      "source": [
        "Para começar, precisamos importar as bibliotecas necessárias e fazer o download dos dados e pacotes do `NLTK`:"
      ],
      "metadata": {
        "id": "hHyg7lOiFPkY"
      }
    },
    {
      "cell_type": "code",
      "source": [
        "import nltk\n",
        "\n",
        "nltk.download('punkt')\n",
        "nltk.download('punkt_tab')"
      ],
      "metadata": {
        "colab": {
          "base_uri": "https://localhost:8080/"
        },
        "id": "ISriJqHwFExm",
        "outputId": "08229de3-0311-4727-a372-d68919cd9555"
      },
      "execution_count": null,
      "outputs": [
        {
          "output_type": "stream",
          "name": "stderr",
          "text": [
            "[nltk_data] Downloading package punkt to /root/nltk_data...\n",
            "[nltk_data]   Package punkt is already up-to-date!\n",
            "[nltk_data] Downloading package punkt_tab to /root/nltk_data...\n",
            "[nltk_data]   Package punkt_tab is already up-to-date!\n"
          ]
        },
        {
          "output_type": "execute_result",
          "data": {
            "text/plain": [
              "True"
            ]
          },
          "metadata": {},
          "execution_count": 33
        }
      ]
    },
    {
      "cell_type": "markdown",
      "source": [
        "Em seguida, vamos criar uma lista de sentenças de exemplo para treinar nosso modelo:"
      ],
      "metadata": {
        "id": "cMzeWwGaF7fO"
      }
    },
    {
      "cell_type": "code",
      "source": [
        "sentencas = [\"O cachorro late para a lua.\",\n",
        "             \"A lua é branca como a neve.\",\n",
        "             \"O sol é amarelo e brilhante.\",\n",
        "             \"O cachorro é o melhor amigo do homem.\",\n",
        "             \"A lua é o satélite natural da Terra.\",\n",
        "             \"O cachorro corre pelo parque.\",\n",
        "             \"O sol nasce no leste e se põe no oeste.\",\n",
        "             \"A lua cheia é linda no céu noturno.\",\n",
        "             \"O cachorro abana o rabo quando está feliz.\"]"
      ],
      "metadata": {
        "id": "P3ijEJPWFUHR"
      },
      "execution_count": null,
      "outputs": []
    },
    {
      "cell_type": "markdown",
      "source": [
        "Agora, vamos criar uma função que irá receber uma lista de sentenças e um valor de n (o tamanho do n-grama) e retornar um modelo de linguagem com n-gramas:"
      ],
      "metadata": {
        "id": "MyYpTJYSGAkA"
      }
    },
    {
      "cell_type": "code",
      "source": [
        "from nltk import ngrams, FreqDist\n",
        "\n",
        "def gerar_modelo_ngramas(sentencas, n):\n",
        "\n",
        "    # inicializar um dicionario vazio para armazenar a frequencia dos n-gramas\n",
        "    ngramas_frequencia = {}\n",
        "\n",
        "    # iterar sobre as sentenças e gerar n-gramas\n",
        "    for sentenca in sentencas:\n",
        "\n",
        "        # quebrar a sentença em tokens\n",
        "        tokens = nltk.word_tokenize(sentenca.lower())\n",
        "\n",
        "        # gerar n-gramas\n",
        "        ngramas_lista = list(ngrams(tokens, n))\n",
        "\n",
        "        # iterar sobre os n-gramas e adicionar a frequência\n",
        "        for ngrama in ngramas_lista:\n",
        "            if ngrama in ngramas_frequencia:\n",
        "                ngramas_frequencia[ngrama] += 1\n",
        "            else:\n",
        "                ngramas_frequencia[ngrama] = 1\n",
        "\n",
        "    # calcular a frequencia relativa de cada n-grama\n",
        "    for ngrama in ngramas_frequencia:\n",
        "        ngramas_frequencia[ngrama] /= len(ngramas_frequencia)\n",
        "\n",
        "    # retornar um objeto FreqDist com as frequencias relativas dos n-gramas\n",
        "    return FreqDist(ngramas_frequencia)"
      ],
      "metadata": {
        "id": "YU3BTOOoFfHA"
      },
      "execution_count": null,
      "outputs": []
    },
    {
      "cell_type": "markdown",
      "source": [
        "Agora, podemos usar a função para criar um modelo de linguagem com n-gramas de tamanho 2 (bigramas) a partir das sentenças de exemplo:"
      ],
      "metadata": {
        "id": "f7hTZSWHGGrv"
      }
    },
    {
      "cell_type": "code",
      "source": [
        "modelo = gerar_modelo_ngramas(sentencas, 2)"
      ],
      "metadata": {
        "id": "A3MB-HCjFiNk"
      },
      "execution_count": null,
      "outputs": []
    },
    {
      "cell_type": "markdown",
      "source": [
        "Podemos usar o modelo para gerar uma lista dos bigramas mais comuns:"
      ],
      "metadata": {
        "id": "clRPZSPKGL2-"
      }
    },
    {
      "cell_type": "code",
      "source": [
        "modelo.most_common(5)"
      ],
      "metadata": {
        "colab": {
          "base_uri": "https://localhost:8080/"
        },
        "id": "hC4OXsQ3FlLv",
        "outputId": "f9a3a64d-abc5-46a8-bf67-3c904f7b7ee2"
      },
      "execution_count": null,
      "outputs": [
        {
          "output_type": "execute_result",
          "data": {
            "text/plain": [
              "[(('o', 'cachorro'), 0.07017543859649122),\n",
              " (('a', 'lua'), 0.07017543859649122),\n",
              " (('lua', 'é'), 0.03508771929824561),\n",
              " (('o', 'sol'), 0.03508771929824561),\n",
              " (('é', 'o'), 0.03508771929824561)]"
            ]
          },
          "metadata": {},
          "execution_count": 37
        }
      ]
    },
    {
      "cell_type": "markdown",
      "source": [
        "Isso gera uma lista dos 5 bigramas mais comuns no córpus de exemplo, juntamente com suas frequências relativas."
      ],
      "metadata": {
        "id": "yeWe_uz4GOi4"
      }
    },
    {
      "cell_type": "markdown",
      "source": [
        "**Nuvem de Palavras**"
      ],
      "metadata": {
        "id": "i8got0fuDOVu"
      }
    },
    {
      "cell_type": "markdown",
      "source": [
        "Para criar um modelo de linguagem com **`n-gramas `**e gerar uma **nuvem de palavras**, vamos seguir os seguintes passos:"
      ],
      "metadata": {
        "id": "CRKjxMJZB6kq"
      }
    },
    {
      "cell_type": "markdown",
      "source": [
        " * Escolher um córpus simples: para este exemplo, vamos escolher um pequeno córpus com algumas frases sobre animais.\n",
        "\n",
        " * Pré-processar o córpus: para construir nosso modelo de linguagem, precisamos pré-processar o córpus para remover pontuações, transformar todas as letras em minúsculas e dividir as frases em *tokens*.\n",
        "\n",
        "  * Gerar os n-gramas: em seguida, vamos gerar n-gramas com base nos tokens do córpus. Neste exemplo, vamos criar bigramas (2-gramas).\n",
        "\n",
        "  * Calcular a frequência dos n-gramas: em seguida, vamos calcular a frequência de cada n-grama no córpus.\n",
        "\n",
        "  * Gerar a nuvem de palavras: finalmente, vamos usar as frequências dos n-gramas para gerar uma nuvem de palavras com as palavras mais frequentes."
      ],
      "metadata": {
        "id": "KIx3iWQoB7S9"
      }
    },
    {
      "cell_type": "markdown",
      "source": [
        "Inicialmente, vamos pré-processar o córpus:"
      ],
      "metadata": {
        "id": "BfScyea9CPfC"
      }
    },
    {
      "cell_type": "code",
      "source": [
        "import re\n",
        "\n",
        "corpus = \"\"\"Os gatos são animais domésticos. Os cães são animais de estimação.\n",
        "          Os gatos são animais que voam.\"\"\"\n",
        "\n",
        "# remover pontuacoes\n",
        "corpus = re.sub(r'[^\\w\\s]', '', corpus)\n",
        "\n",
        "# transformar todos caracteres em minusculos\n",
        "corpus = corpus.lower()\n",
        "\n",
        "# dividir as frases em tokens\n",
        "tokens = corpus.split()"
      ],
      "metadata": {
        "id": "puMBxoZOAt3j"
      },
      "execution_count": null,
      "outputs": []
    },
    {
      "cell_type": "markdown",
      "source": [
        "Em seguida, vamos criar bigramas:"
      ],
      "metadata": {
        "id": "2AUtALLGCRzr"
      }
    },
    {
      "cell_type": "code",
      "source": [
        "n = 2\n",
        "ngramas = []\n",
        "\n",
        "for i in range(len(tokens)-n+1):\n",
        "    ngramas.append(tokens[i:i+n])"
      ],
      "metadata": {
        "id": "dHWqcOwNBcpD"
      },
      "execution_count": null,
      "outputs": []
    },
    {
      "cell_type": "code",
      "source": [
        "ngramas"
      ],
      "metadata": {
        "colab": {
          "base_uri": "https://localhost:8080/"
        },
        "id": "HvwXwajwD2v2",
        "outputId": "5b2c6ec4-50fa-4671-e351-18c77055b87a"
      },
      "execution_count": null,
      "outputs": [
        {
          "output_type": "execute_result",
          "data": {
            "text/plain": [
              "[['os', 'gatos'],\n",
              " ['gatos', 'são'],\n",
              " ['são', 'animais'],\n",
              " ['animais', 'domésticos'],\n",
              " ['domésticos', 'os'],\n",
              " ['os', 'cães'],\n",
              " ['cães', 'são'],\n",
              " ['são', 'animais'],\n",
              " ['animais', 'de'],\n",
              " ['de', 'estimação'],\n",
              " ['estimação', 'os'],\n",
              " ['os', 'gatos'],\n",
              " ['gatos', 'são'],\n",
              " ['são', 'animais'],\n",
              " ['animais', 'que'],\n",
              " ['que', 'voam']]"
            ]
          },
          "metadata": {},
          "execution_count": 40
        }
      ]
    },
    {
      "cell_type": "markdown",
      "source": [
        "Agora, vamos calcular a frequência dos n-gramas:"
      ],
      "metadata": {
        "id": "JuqfHXywCUc2"
      }
    },
    {
      "cell_type": "code",
      "source": [
        "frequencia = {}\n",
        "\n",
        "for ngrama in ngramas:\n",
        "    ngrama_str = ' '.join(ngrama)\n",
        "    if ngrama_str in frequencia:\n",
        "        frequencia[ngrama_str] += 1\n",
        "    else:\n",
        "        frequencia[ngrama_str] = 1"
      ],
      "metadata": {
        "id": "4C_5fsPuBgsC"
      },
      "execution_count": null,
      "outputs": []
    },
    {
      "cell_type": "code",
      "source": [
        "frequencia"
      ],
      "metadata": {
        "colab": {
          "base_uri": "https://localhost:8080/"
        },
        "id": "AKHlJtvgECaM",
        "outputId": "a1da7b29-0ef5-4c26-bb87-7261ed2e8db6"
      },
      "execution_count": null,
      "outputs": [
        {
          "output_type": "execute_result",
          "data": {
            "text/plain": [
              "{'os gatos': 2,\n",
              " 'gatos são': 2,\n",
              " 'são animais': 3,\n",
              " 'animais domésticos': 1,\n",
              " 'domésticos os': 1,\n",
              " 'os cães': 1,\n",
              " 'cães são': 1,\n",
              " 'animais de': 1,\n",
              " 'de estimação': 1,\n",
              " 'estimação os': 1,\n",
              " 'animais que': 1,\n",
              " 'que voam': 1}"
            ]
          },
          "metadata": {},
          "execution_count": 42
        }
      ]
    },
    {
      "cell_type": "markdown",
      "source": [
        "Finalmente, vamos gerar a nuvem de palavras com os n-gramas mais frequentes:"
      ],
      "metadata": {
        "id": "CQcnJJw-CZY2"
      }
    },
    {
      "cell_type": "code",
      "source": [
        "import matplotlib.pyplot as plt\n",
        "from wordcloud import WordCloud\n",
        "\n",
        "# obter os n-gramas mais frequentes\n",
        "ngramas_mais_comuns = sorted(frequencia.items(), key=lambda x: x[1], reverse=True)[:10]\n",
        "\n",
        "# criar a nuvem de palavras\n",
        "nuvem_palavras = WordCloud(\n",
        "              width=800,\n",
        "              height=400,\n",
        "              background_color='white'\n",
        ").generate_from_frequencies(dict(ngramas_mais_comuns))\n",
        "\n",
        "# plotar a nuvem de palavras\n",
        "plt.imshow(nuvem_palavras, interpolation='bilinear')\n",
        "plt.axis('off')\n",
        "plt.show()"
      ],
      "metadata": {
        "colab": {
          "base_uri": "https://localhost:8080/",
          "height": 285
        },
        "id": "YZ_KpW9_Bj8i",
        "outputId": "b77362d4-d723-49aa-8262-f6d004a17e4a"
      },
      "execution_count": null,
      "outputs": [
        {
          "output_type": "display_data",
          "data": {
            "text/plain": [
              "<Figure size 640x480 with 1 Axes>"
            ],
            "image/png": "[encoded data removed]"
          },
          "metadata": {}
        }
      ]
    }
  ]
}