{
  "nbformat": 4,
  "nbformat_minor": 0,
  "metadata": {
    "colab": {
      "provenance": [],
      "authorship_tag": "ABX9TyO2BdY51TQfUkRh1/WxQ1ab",
      "include_colab_link": true
    },
    "kernelspec": {
      "name": "python3",
      "display_name": "Python 3"
    },
    "language_info": {
      "name": "python"
    }
  },
  "cells": [
    {
      "cell_type": "markdown",
      "metadata": {
        "id": "view-in-github",
        "colab_type": "text"
      },
      "source": [
        "<a href=\"https://colab.research.google.com/github/adalves-ufabc/2025.Q3-PLN/blob/main/2025_Q3_PLN_AULA_03_Notebook_04.ipynb\" target=\"_parent\"><img src=\"https://colab.research.google.com/assets/colab-badge.svg\" alt=\"Open In Colab\"/></a>"
      ]
    },
    {
      "cell_type": "markdown",
      "source": [
        "# **Processamento de Linguagem Natural [2025-Q3]**\n",
        "Prof. Alexandre Donizeti Alves"
      ],
      "metadata": {
        "id": "ewmrcfeamru4"
      }
    },
    {
      "cell_type": "markdown",
      "source": [
        "# **Extração e Pré-processamento de Dados**\n",
        "\n",
        "---\n"
      ],
      "metadata": {
        "id": "6au9klB6ms67"
      }
    },
    {
      "cell_type": "markdown",
      "source": [
        "### **Arquivo PDF**"
      ],
      "metadata": {
        "id": "Tb3VhbZImvUS"
      }
    },
    {
      "cell_type": "code",
      "execution_count": 1,
      "metadata": {
        "id": "w-lROQq0wEIO",
        "colab": {
          "base_uri": "https://localhost:8080/"
        },
        "outputId": "c4993ad6-f75e-4f08-fd50-56bfd5240626"
      },
      "outputs": [
        {
          "output_type": "stream",
          "name": "stdout",
          "text": [
            "Collecting PyPDF2\n",
            "  Downloading pypdf2-3.0.1-py3-none-any.whl.metadata (6.8 kB)\n",
            "Downloading pypdf2-3.0.1-py3-none-any.whl (232 kB)\n",
            "\u001b[2K   \u001b[90m━━━━━━━━━━━━━━━━━━━━━━━━━━━━━━━━━━━━━━━━\u001b[0m \u001b[32m232.6/232.6 kB\u001b[0m \u001b[31m4.0 MB/s\u001b[0m eta \u001b[36m0:00:00\u001b[0m\n",
            "\u001b[?25hInstalling collected packages: PyPDF2\n",
            "Successfully installed PyPDF2-3.0.1\n"
          ]
        }
      ],
      "source": [
        "!pip install PyPDF2"
      ]
    },
    {
      "cell_type": "markdown",
      "source": [
        "https://prograd.ufabc.edu.br/pdf/20233_MATRCULAS_DEFERIDAS_PS_AJUSTE.pdf"
      ],
      "metadata": {
        "id": "Q5lpbksonVc9"
      }
    },
    {
      "cell_type": "markdown",
      "source": [
        "https://prograd.ufabc.edu.br/pdf/20233_MATRCULAS_DEFERIDAS_REAJUSTE.pdf"
      ],
      "metadata": {
        "id": "gbaUGZDAncBD"
      }
    },
    {
      "cell_type": "code",
      "source": [
        "import requests\n",
        "import PyPDF2\n",
        "\n",
        "# URL do PDF\n",
        "url = \"https://prograd.ufabc.edu.br/pdf/20233_MATRCULAS_DEFERIDAS_REAJUSTE.pdf\"\n",
        "#url = \"https://prograd.ufabc.edu.br/pdf/20233_MATRCULAS_DEFERIDAS_PS_AJUSTE.pdf\"\n",
        "\n",
        "# download do PDF\n",
        "response = requests.get(url)\n",
        "\n",
        "# verificar se o download foi bem-sucedido\n",
        "if response.status_code == 200:\n",
        "    # criar um objeto PDF a partir do conteudo do download\n",
        "    pdf_content = response.content\n",
        "    pdf_file = open(\"ufabc_matriculas_2023_q3.pdf\", \"wb\")\n",
        "    pdf_file.write(pdf_content)\n",
        "    pdf_file.close()\n",
        "else:\n",
        "    print(\"Falha ao baixar o PDF\")"
      ],
      "metadata": {
        "id": "5qXF-xKknw6d"
      },
      "execution_count": 2,
      "outputs": []
    },
    {
      "cell_type": "code",
      "source": [
        "from PyPDF2 import PdfReader\n",
        "\n",
        "# abrir arquivo PDF em modo leitura\n",
        "pdf = PdfReader('/content/ufabc_matriculas_2023_q3.pdf')\n",
        "\n",
        "num_paginas = len(pdf.pages)\n",
        "\n",
        "print(num_paginas)"
      ],
      "metadata": {
        "colab": {
          "base_uri": "https://localhost:8080/"
        },
        "id": "XQncvXvcxNWa",
        "outputId": "e90f5596-106a-48cf-95b8-46c8bbc361bd"
      },
      "execution_count": 3,
      "outputs": [
        {
          "output_type": "stream",
          "name": "stdout",
          "text": [
            "38\n"
          ]
        }
      ]
    },
    {
      "cell_type": "code",
      "source": [
        "from PyPDF2 import PdfReader\n",
        "import pandas as pd\n",
        "\n",
        "# extrair RAs com base no codigo da turma\n",
        "def extrair_ra_por_turma(pdf_path, codigo_turma):\n",
        "\n",
        "    pdf = PdfReader(pdf_path)\n",
        "\n",
        "    # inicializar uma lista para armazenar os RAs encontrados\n",
        "    ra_lista = []\n",
        "\n",
        "    # iterar atraves de cada pagina do PDF\n",
        "    for pagina_numero in range(len(pdf.pages)):\n",
        "        pagina = pdf.pages[pagina_numero]\n",
        "        texto = pagina.extract_text()\n",
        "\n",
        "        # dividir o texto em linhas\n",
        "        linhas = texto.split('\\n')\n",
        "\n",
        "        # iterar atraves de cada linha para encontrar o RA com base no codigo da turma\n",
        "        for linha in linhas:\n",
        "            if codigo_turma in linha:\n",
        "                partes = linha.split(' ')\n",
        "                ra = partes[0]\n",
        "                ra_lista.append(ra)\n",
        "\n",
        "    return ra_lista"
      ],
      "metadata": {
        "id": "wPjZLN8_yQ9p"
      },
      "execution_count": 4,
      "outputs": []
    },
    {
      "cell_type": "code",
      "source": [
        "pdf_path = '/content/ufabc_matriculas_2023_q3.pdf'\n",
        "\n",
        "codigo_turma_procurado = 'NAMCZA017-13SA'\n",
        "\n",
        "ra_encontrados = extrair_ra_por_turma(pdf_path, codigo_turma_procurado)\n",
        "\n",
        "df = pd.DataFrame({'RA': ra_encontrados})\n",
        "\n",
        "print(df)"
      ],
      "metadata": {
        "colab": {
          "base_uri": "https://localhost:8080/"
        },
        "id": "x-7LTgzEk4wb",
        "outputId": "d310b87b-c0d3-4ad9-b5ce-8c61c2f4e883"
      },
      "execution_count": 5,
      "outputs": [
        {
          "output_type": "stream",
          "name": "stdout",
          "text": [
            "             RA\n",
            "0   11202130893\n",
            "1   11202021040\n",
            "2   11201921122\n",
            "3   11201810534\n",
            "4   11201811282\n",
            "5   11201720134\n",
            "6   11201921612\n",
            "7   11202020921\n",
            "8      21053014\n",
            "9   11202021919\n",
            "10     11076015\n",
            "11  11202021207\n",
            "12  11201811265\n",
            "13     11012215\n",
            "14  11202021758\n",
            "15  11202130640\n",
            "16  11202130417\n"
          ]
        }
      ]
    },
    {
      "cell_type": "code",
      "source": [
        "print(df.shape)"
      ],
      "metadata": {
        "colab": {
          "base_uri": "https://localhost:8080/"
        },
        "id": "WjnhbKo6lKwE",
        "outputId": "3c6422a4-5ecc-454b-bf3f-8ea3a076af5c"
      },
      "execution_count": 6,
      "outputs": [
        {
          "output_type": "stream",
          "name": "stdout",
          "text": [
            "(17, 1)\n"
          ]
        }
      ]
    },
    {
      "cell_type": "code",
      "source": [
        "!pip install openpyxl"
      ],
      "metadata": {
        "colab": {
          "base_uri": "https://localhost:8080/"
        },
        "id": "QRVurr8dzibp",
        "outputId": "c35211ab-e026-4434-a0fd-9089b75edfe5"
      },
      "execution_count": 7,
      "outputs": [
        {
          "output_type": "stream",
          "name": "stdout",
          "text": [
            "Requirement already satisfied: openpyxl in /usr/local/lib/python3.12/dist-packages (3.1.5)\n",
            "Requirement already satisfied: et-xmlfile in /usr/local/lib/python3.12/dist-packages (from openpyxl) (2.0.0)\n"
          ]
        }
      ]
    },
    {
      "cell_type": "code",
      "source": [
        "excel_arquivo_path = 'ra_' + codigo_turma_procurado + '.xlsx'\n",
        "\n",
        "# salvar o DataFrame em uma planilha do Excel\n",
        "df.to_excel(excel_arquivo_path, index=False)\n",
        "\n",
        "print(f'A turma {codigo_turma_procurado} foi salvo em <{excel_arquivo_path}>')"
      ],
      "metadata": {
        "colab": {
          "base_uri": "https://localhost:8080/"
        },
        "id": "dGFRwUbhzmOx",
        "outputId": "e9db1d9a-5271-4f39-89f6-c31d53cc4b36"
      },
      "execution_count": 8,
      "outputs": [
        {
          "output_type": "stream",
          "name": "stdout",
          "text": [
            "A turma NAMCZA017-13SA foi salvo em <ra_NAMCZA017-13SA.xlsx>\n"
          ]
        }
      ]
    }
  ]
}