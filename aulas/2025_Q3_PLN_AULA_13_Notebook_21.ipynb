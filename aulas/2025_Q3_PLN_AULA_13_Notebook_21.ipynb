{
  "cells": [
    {
      "cell_type": "markdown",
      "metadata": {
        "id": "view-in-github",
        "colab_type": "text"
      },
      "source": [
        "<a href=\"https://colab.research.google.com/github/adalves-ufabc/2025.Q3-PLN/blob/main/2025_Q3_PLN_AULA_13_Notebook_21.ipynb\" target=\"_parent\"><img src=\"https://colab.research.google.com/assets/colab-badge.svg\" alt=\"Open In Colab\"/></a>"
      ]
    },
    {
      "cell_type": "markdown",
      "metadata": {
        "id": "Y6QILOdpOjwv"
      },
      "source": [
        "# **Processamento de Linguagem Natural [2025-Q3]**\n",
        "Prof. Alexandre Donizeti Alves"
      ]
    },
    {
      "cell_type": "markdown",
      "metadata": {
        "id": "nmK05FgcOzL2"
      },
      "source": [
        "## **API Cohere**\n",
        "---\n",
        "\n"
      ]
    },
    {
      "cell_type": "markdown",
      "source": [
        "**Cohere** é uma empresa de IA especializada em fornecer soluções de PLN. Fundada em 2019 por ex-cientistas do Google, a empresa está sediada em Toronto, Canadá."
      ],
      "metadata": {
        "id": "30FgFEGrkS8C"
      }
    },
    {
      "cell_type": "markdown",
      "source": [
        "![image.png](data:image/png;base64,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)\n",
        "\n",
        "https://docs.cohere.com/"
      ],
      "metadata": {
        "id": "viRQEerj452j"
      }
    },
    {
      "cell_type": "code",
      "execution_count": 1,
      "metadata": {
        "id": "cYKEbnlNTVlR",
        "colab": {
          "base_uri": "https://localhost:8080/"
        },
        "outputId": "25f3c65f-d597-4129-fc24-1b8ddfca2fc5"
      },
      "outputs": [
        {
          "output_type": "stream",
          "name": "stdout",
          "text": [
            "\u001b[?25l   \u001b[90m━━━━━━━━━━━━━━━━━━━━━━━━━━━━━━━━━━━━━━━━\u001b[0m \u001b[32m0.0/303.3 kB\u001b[0m \u001b[31m?\u001b[0m eta \u001b[36m-:--:--\u001b[0m\r\u001b[2K   \u001b[91m━━━━━━━━━━━━━━━━━━━━━━━━━━━━━━━━━━━━━━━\u001b[0m\u001b[90m╺\u001b[0m \u001b[32m297.0/303.3 kB\u001b[0m \u001b[31m10.0 MB/s\u001b[0m eta \u001b[36m0:00:01\u001b[0m\r\u001b[2K   \u001b[90m━━━━━━━━━━━━━━━━━━━━━━━━━━━━━━━━━━━━━━━━\u001b[0m \u001b[32m303.3/303.3 kB\u001b[0m \u001b[31m6.1 MB/s\u001b[0m eta \u001b[36m0:00:00\u001b[0m\n",
            "\u001b[?25h\u001b[?25l   \u001b[90m━━━━━━━━━━━━━━━━━━━━━━━━━━━━━━━━━━━━━━━━\u001b[0m \u001b[32m0.0/3.5 MB\u001b[0m \u001b[31m?\u001b[0m eta \u001b[36m-:--:--\u001b[0m\r\u001b[2K   \u001b[91m━━━━━━━━━━━━━━━━━━━━━━━\u001b[0m\u001b[90m╺\u001b[0m\u001b[90m━━━━━━━━━━━━━━━━\u001b[0m \u001b[32m2.0/3.5 MB\u001b[0m \u001b[31m60.2 MB/s\u001b[0m eta \u001b[36m0:00:01\u001b[0m\r\u001b[2K   \u001b[91m━━━━━━━━━━━━━━━━━━━━━━━━━━━━━━━━━━━━━━━\u001b[0m\u001b[91m╸\u001b[0m \u001b[32m3.5/3.5 MB\u001b[0m \u001b[31m61.5 MB/s\u001b[0m eta \u001b[36m0:00:01\u001b[0m\r\u001b[2K   \u001b[90m━━━━━━━━━━━━━━━━━━━━━━━━━━━━━━━━━━━━━━━━\u001b[0m \u001b[32m3.5/3.5 MB\u001b[0m \u001b[31m39.4 MB/s\u001b[0m eta \u001b[36m0:00:00\u001b[0m\n",
            "\u001b[?25h"
          ]
        }
      ],
      "source": [
        "#@title Instalando a biblioteca da API Cohere\n",
        "!pip install -q -U cohere"
      ]
    },
    {
      "cell_type": "code",
      "execution_count": 2,
      "metadata": {
        "colab": {
          "base_uri": "https://localhost:8080/"
        },
        "id": "hJvs5RTcbE64",
        "outputId": "c5b7a2d0-40d6-4ac4-dd33-96bd0695f4a8"
      },
      "outputs": [
        {
          "output_type": "stream",
          "name": "stdout",
          "text": [
            "5.20.0\n"
          ]
        }
      ],
      "source": [
        "#@title Versão da API Cohere\n",
        "\n",
        "import cohere\n",
        "\n",
        "print(cohere.__version__)"
      ]
    },
    {
      "cell_type": "code",
      "execution_count": 3,
      "metadata": {
        "colab": {
          "base_uri": "https://localhost:8080/"
        },
        "id": "RM5RnKClbPtQ",
        "outputId": "1b9c7027-ec25-424f-9b11-2068f56dc93e"
      },
      "outputs": [
        {
          "name": "stdout",
          "output_type": "stream",
          "text": [
            "··········\n"
          ]
        }
      ],
      "source": [
        "#@title Definindo a chave da API\n",
        "\n",
        "from getpass import getpass\n",
        "\n",
        "COHERE_API_KEY = getpass()"
      ]
    },
    {
      "cell_type": "code",
      "execution_count": 4,
      "metadata": {
        "colab": {
          "base_uri": "https://localhost:8080/"
        },
        "id": "Vp-Gdc8X9Qiu",
        "outputId": "a9dbe8b2-af56-432d-b669-adee368f5b9f"
      },
      "outputs": [
        {
          "output_type": "stream",
          "name": "stdout",
          "text": [
            "Brasília\n"
          ]
        }
      ],
      "source": [
        "#@title Teste\n",
        "\n",
        "import cohere\n",
        "\n",
        "cliente = cohere.ClientV2(api_key = COHERE_API_KEY)\n",
        "\n",
        "resposta = cliente.chat(\n",
        "  model = \"command-a-03-2025\",\n",
        "  messages=[\n",
        "        {\n",
        "            \"role\": \"user\",\n",
        "            \"content\": \"Qual a capital do Brasil? Responda apenas o nome.\",\n",
        "        }\n",
        "    ],\n",
        "  temperature = 0.5\n",
        ")\n",
        "\n",
        "print(resposta.message.content[0].text)"
      ]
    },
    {
      "cell_type": "code",
      "source": [
        "#@title Formatando a resposta [Markdown]\n",
        "\n",
        "from IPython.display import Markdown\n",
        "\n",
        "Markdown(resposta.message.content[0].text)"
      ],
      "metadata": {
        "colab": {
          "base_uri": "https://localhost:8080/",
          "height": 46
        },
        "id": "74dVvMBdnVDl",
        "outputId": "5a036f5c-618b-4404-caba-13849c5a95a5"
      },
      "execution_count": 5,
      "outputs": [
        {
          "output_type": "execute_result",
          "data": {
            "text/plain": [
              "<IPython.core.display.Markdown object>"
            ],
            "text/markdown": "Brasília"
          },
          "metadata": {},
          "execution_count": 5
        }
      ]
    },
    {
      "cell_type": "code",
      "source": [
        "#@title Formatando a resposta [JSON]\n",
        "\n",
        "import json\n",
        "\n",
        "import json\n",
        "\n",
        "def formatar_json(resposta):\n",
        "    dados = json.loads(resposta.json())\n",
        "    json_formatado = json.dumps(dados, indent=4, ensure_ascii=False)\n",
        "    linhas = json_formatado.splitlines()\n",
        "    for linha in linhas:\n",
        "      print(linha)"
      ],
      "metadata": {
        "id": "dKewBDEnnzfM"
      },
      "execution_count": 6,
      "outputs": []
    },
    {
      "cell_type": "code",
      "source": [
        "formatar_json(resposta)"
      ],
      "metadata": {
        "colab": {
          "base_uri": "https://localhost:8080/"
        },
        "id": "uFr_NhzDpEk1",
        "outputId": "78de024c-9f26-4af2-be56-bf68f035499e"
      },
      "execution_count": 7,
      "outputs": [
        {
          "output_type": "stream",
          "name": "stdout",
          "text": [
            "{\n",
            "    \"id\": \"beeed634-087e-47f5-8694-28fdb89d6a61\",\n",
            "    \"finish_reason\": \"COMPLETE\",\n",
            "    \"message\": {\n",
            "        \"role\": \"assistant\",\n",
            "        \"content\": [\n",
            "            {\n",
            "                \"type\": \"text\",\n",
            "                \"text\": \"Brasília\"\n",
            "            }\n",
            "        ]\n",
            "    },\n",
            "    \"usage\": {\n",
            "        \"billed_units\": {\n",
            "            \"input_tokens\": 12.0,\n",
            "            \"output_tokens\": 2.0\n",
            "        },\n",
            "        \"tokens\": {\n",
            "            \"input_tokens\": 507.0,\n",
            "            \"output_tokens\": 4.0\n",
            "        },\n",
            "        \"cached_tokens\": 448.0\n",
            "    }\n",
            "}\n"
          ]
        }
      ]
    },
    {
      "cell_type": "code",
      "source": [
        "resposta.dict()"
      ],
      "metadata": {
        "colab": {
          "base_uri": "https://localhost:8080/"
        },
        "id": "evAqYizi3ydK",
        "outputId": "6806e87e-15c2-47dd-e7d8-4df202a4723c"
      },
      "execution_count": 8,
      "outputs": [
        {
          "output_type": "execute_result",
          "data": {
            "text/plain": [
              "{'id': 'beeed634-087e-47f5-8694-28fdb89d6a61',\n",
              " 'finish_reason': 'COMPLETE',\n",
              " 'message': {'role': 'assistant',\n",
              "  'content': [{'type': 'text', 'text': 'Brasília'}]},\n",
              " 'usage': {'billed_units': {'input_tokens': 12.0, 'output_tokens': 2.0},\n",
              "  'tokens': {'input_tokens': 507.0, 'output_tokens': 4.0},\n",
              "  'cached_tokens': 448.0}}"
            ]
          },
          "metadata": {},
          "execution_count": 8
        }
      ]
    },
    {
      "cell_type": "code",
      "source": [
        "#@title Lista de Modelos\n",
        "\n",
        "import cohere\n",
        "\n",
        "cliente = cohere.ClientV2(api_key = COHERE_API_KEY)\n",
        "\n",
        "resposta = cliente.models.list()\n",
        "\n",
        "resposta"
      ],
      "metadata": {
        "colab": {
          "base_uri": "https://localhost:8080/"
        },
        "id": "VoymgwE9cbPs",
        "outputId": "9b96e6ed-13e2-454c-981b-bd23ee895396"
      },
      "execution_count": 9,
      "outputs": [
        {
          "output_type": "execute_result",
          "data": {
            "text/plain": [
              "ListModelsResponse(models=[GetModelResponse(name='embed-english-light-v3.0', is_deprecated=None, endpoints=['embed', 'classify'], finetuned=False, context_length=512, tokenizer_url='https://storage.googleapis.com/cohere-public/tokenizers/embed-english-light-v3.0.json', default_endpoints=[], features=None), GetModelResponse(name='embed-multilingual-v2.0', is_deprecated=None, endpoints=['embed', 'classify'], finetuned=False, context_length=256, tokenizer_url='https://storage.googleapis.com/cohere-public/tokenizers/embed-multilingual-v2.0.json', default_endpoints=[], features=None), GetModelResponse(name='rerank-multilingual-v3.0', is_deprecated=None, endpoints=['rerank'], finetuned=False, context_length=4096, tokenizer_url='https://storage.googleapis.com/cohere-public/tokenizers/rerank-multilingual-v3.0.json', default_endpoints=[], features=None), GetModelResponse(name='command-a-03-2025', is_deprecated=None, endpoints=['chat'], finetuned=False, context_length=288000, tokenizer_url='https://storage.googleapis.com/cohere-public/tokenizers/command-a-03-2025.json', default_endpoints=['chat', 'generate'], features=['json_mode', 'json_schema', 'strict_tools', 'safety_modes', 'tools']), GetModelResponse(name='command-a-reasoning-08-2025', is_deprecated=None, endpoints=['chat'], finetuned=False, context_length=288768, tokenizer_url='https://storage.googleapis.com/cohere-public/tokenizers/command-a-reasoning-08-2025.json', default_endpoints=[], features=['json_mode', 'json_schema', 'strict_tools', 'safety_modes', 'tools', 'reasoning']), GetModelResponse(name='embed-multilingual-light-v3.0-image', is_deprecated=None, endpoints=['embed_image'], finetuned=False, context_length=0, tokenizer_url=None, default_endpoints=[], features=None), GetModelResponse(name='c4ai-aya-vision-32b', is_deprecated=None, endpoints=['chat'], finetuned=False, context_length=16384, tokenizer_url='https://storage.googleapis.com/cohere-public/tokenizers/c4ai-aya-vision-32b.json', default_endpoints=[], features=['logprobs', 'vision']), GetModelResponse(name='command-a-vision-07-2025', is_deprecated=None, endpoints=['chat'], finetuned=False, context_length=128000, tokenizer_url='https://storage.googleapis.com/cohere-public/tokenizers/command-a-vision-07-2025.json', default_endpoints=[], features=['vision', 'logprobs', 'json_mode', 'json_schema', 'strict_tools', 'safety_modes']), GetModelResponse(name='embed-english-light-v3.0-image', is_deprecated=None, endpoints=['embed_image'], finetuned=False, context_length=0, tokenizer_url=None, default_endpoints=[], features=None), GetModelResponse(name='embed-english-v3.0-image', is_deprecated=None, endpoints=['embed_image'], finetuned=False, context_length=0, tokenizer_url=None, default_endpoints=[], features=None), GetModelResponse(name='command-r-08-2024', is_deprecated=None, endpoints=['generate', 'chat', 'summarize'], finetuned=False, context_length=132096, tokenizer_url='https://storage.googleapis.com/cohere-public/tokenizers/command-r-08-2024.json', default_endpoints=[], features=['logprobs', 'json_mode', 'json_schema', 'strict_tools', 'safety_modes', 'tools']), GetModelResponse(name='command-r7b-arabic-02-2025', is_deprecated=None, endpoints=['generate', 'chat'], finetuned=False, context_length=128000, tokenizer_url='https://storage.googleapis.com/cohere-public/tokenizers/command-r7b-arabic-02-2025.json', default_endpoints=[], features=['logprobs', 'json_mode', 'json_schema', 'strict_tools', 'safety_modes', 'tools']), GetModelResponse(name='embed-english-v3.0', is_deprecated=None, endpoints=['embed', 'classify'], finetuned=False, context_length=512, tokenizer_url='https://storage.googleapis.com/cohere-public/tokenizers/embed-english-v3.0.json', default_endpoints=[], features=None), GetModelResponse(name='c4ai-aya-expanse-32b', is_deprecated=None, endpoints=['generate', 'chat'], finetuned=False, context_length=128000, tokenizer_url='https://storage.googleapis.com/cohere-public/tokenizers/c4ai-aya-expanse-32b.json', default_endpoints=[], features=None), GetModelResponse(name='command-r7b-12-2024', is_deprecated=None, endpoints=['generate', 'chat'], finetuned=False, context_length=132000, tokenizer_url='https://storage.googleapis.com/cohere-public/tokenizers/command-r7b-12-2024.json', default_endpoints=[], features=['logprobs', 'json_mode', 'json_schema', 'strict_tools', 'safety_modes', 'tools']), GetModelResponse(name='c4ai-aya-vision-8b', is_deprecated=None, endpoints=['chat'], finetuned=False, context_length=16384, tokenizer_url='https://storage.googleapis.com/cohere-public/tokenizers/c4ai-aya-vision-8b.json', default_endpoints=[], features=['logprobs', 'vision']), GetModelResponse(name='command-a-translate-08-2025', is_deprecated=None, endpoints=['chat'], finetuned=False, context_length=8992, tokenizer_url='https://storage.googleapis.com/cohere-public/tokenizers/command-a-translate-08-2025.json', default_endpoints=[], features=['json_mode', 'json_schema', 'safety_modes', 'tools']), GetModelResponse(name='embed-multilingual-v3.0-image', is_deprecated=None, endpoints=['embed_image'], finetuned=False, context_length=0, tokenizer_url=None, default_endpoints=[], features=None), GetModelResponse(name='embed-v4.0', is_deprecated=None, endpoints=['embed'], finetuned=False, context_length=8192, tokenizer_url='https://storage.googleapis.com/cohere-public/tokenizers/embed-v4.0.json', default_endpoints=[], features=None), GetModelResponse(name='c4ai-aya-expanse-8b', is_deprecated=None, endpoints=['generate', 'chat'], finetuned=False, context_length=8192, tokenizer_url='https://storage.googleapis.com/cohere-public/tokenizers/c4ai-aya-expanse-8b.json', default_endpoints=[], features=None)], next_page_token='K_-BAwEBCVBhZ2VUb2tlbgH_ggABAgECSUQBDAABCENoZWNrc3VtAQYAAAAv_4IBJGI0OTVjYmJiLTc5ZjEtNDJkMC1hMDdlLTA1YWMyNWFmNDU4ZAH8aN9uyQA=')"
            ]
          },
          "metadata": {},
          "execution_count": 9
        }
      ]
    },
    {
      "cell_type": "code",
      "source": [
        "modelos = resposta.models\n",
        "\n",
        "for modelo in modelos:\n",
        "  print(modelo.name)"
      ],
      "metadata": {
        "colab": {
          "base_uri": "https://localhost:8080/"
        },
        "id": "aPS4dQ9Kd0oA",
        "outputId": "56331a6b-d594-49b8-cda8-9c6aa73e6652"
      },
      "execution_count": 10,
      "outputs": [
        {
          "output_type": "stream",
          "name": "stdout",
          "text": [
            "embed-english-light-v3.0\n",
            "embed-multilingual-v2.0\n",
            "rerank-multilingual-v3.0\n",
            "command-a-03-2025\n",
            "command-a-reasoning-08-2025\n",
            "embed-multilingual-light-v3.0-image\n",
            "c4ai-aya-vision-32b\n",
            "command-a-vision-07-2025\n",
            "embed-english-light-v3.0-image\n",
            "embed-english-v3.0-image\n",
            "command-r-08-2024\n",
            "command-r7b-arabic-02-2025\n",
            "embed-english-v3.0\n",
            "c4ai-aya-expanse-32b\n",
            "command-r7b-12-2024\n",
            "c4ai-aya-vision-8b\n",
            "command-a-translate-08-2025\n",
            "embed-multilingual-v3.0-image\n",
            "embed-v4.0\n",
            "c4ai-aya-expanse-8b\n"
          ]
        }
      ]
    },
    {
      "cell_type": "code",
      "source": [
        "len(modelos)"
      ],
      "metadata": {
        "id": "azph9Nmkd-nq",
        "outputId": "ee890199-79bc-4e66-ed1b-c2bc631ada09",
        "colab": {
          "base_uri": "https://localhost:8080/"
        }
      },
      "execution_count": 11,
      "outputs": [
        {
          "output_type": "execute_result",
          "data": {
            "text/plain": [
              "20"
            ]
          },
          "metadata": {},
          "execution_count": 11
        }
      ]
    },
    {
      "cell_type": "markdown",
      "source": [
        "**Conversas de Múltiplas Interações (*Multi-turn*)**"
      ],
      "metadata": {
        "id": "IZfzfE7t51eB"
      }
    },
    {
      "cell_type": "markdown",
      "source": [
        "Uma única solicitação de chat pode englobar várias etapas de uma conversa, em que cada mensagem na lista de mensagens aparece na ordem em que foi enviada. O envio de múltiplas mensagens pode fornecer ao modelo o contexto necessário para gerar uma resposta."
      ],
      "metadata": {
        "id": "9RwlAtIa89lf"
      }
    },
    {
      "cell_type": "code",
      "source": [
        "import cohere\n",
        "\n",
        "cliente = cohere.ClientV2(api_key = COHERE_API_KEY)\n",
        "\n",
        "system_message = \"Você responde de forma concisa, em cerca de 5 palavras ou menos.\"\n",
        "\n",
        "resposta = cliente.chat(\n",
        "    model=\"command-a-03-2025\",\n",
        "    messages=[\n",
        "        {\"role\": \"system\", \"content\": system_message},\n",
        "        {\n",
        "            \"role\": \"user\",\n",
        "            \"content\": \"Escreva um título para uma postagem de blog sobre design de API. Exiba apenas o texto do título.\",\n",
        "        },\n",
        "        {\"role\": \"assistant\", \"content\": \"Projetando APIs perfeitas\"},\n",
        "        {\n",
        "            \"role\": \"user\",\n",
        "            \"content\": \"Mais um sobre IA generativa.\",\n",
        "        },\n",
        "    ],\n",
        ")\n",
        "\n",
        "print(resposta.message.content[0].text)"
      ],
      "metadata": {
        "colab": {
          "base_uri": "https://localhost:8080/"
        },
        "id": "Y55612Sm8t-v",
        "outputId": "994d7c93-a7fc-49f2-adbe-e848b09b7611"
      },
      "execution_count": 12,
      "outputs": [
        {
          "output_type": "stream",
          "name": "stdout",
          "text": [
            "IA Generativa: Criando o Futuro\n"
          ]
        }
      ]
    },
    {
      "cell_type": "code",
      "source": [
        "from IPython.display import Markdown\n",
        "\n",
        "Markdown(resposta.message.content[0].text)"
      ],
      "metadata": {
        "colab": {
          "base_uri": "https://localhost:8080/",
          "height": 46
        },
        "id": "Qz4jR9rG6Zlj",
        "outputId": "3797cd80-cc9b-42f5-9353-7948ed1ff6a8"
      },
      "execution_count": 13,
      "outputs": [
        {
          "output_type": "execute_result",
          "data": {
            "text/plain": [
              "<IPython.core.display.Markdown object>"
            ],
            "text/markdown": "IA Generativa: Criando o Futuro"
          },
          "metadata": {},
          "execution_count": 13
        }
      ]
    },
    {
      "cell_type": "markdown",
      "source": [
        "**Saída Estruturada**"
      ],
      "metadata": {
        "id": "HAcMiPVHA_YR"
      }
    },
    {
      "cell_type": "code",
      "source": [
        "import cohere\n",
        "\n",
        "cliente = cohere.ClientV2(api_key = COHERE_API_KEY)\n",
        "\n",
        "resposta = cliente.chat(\n",
        "    model=\"command-a-03-2025\",\n",
        "    messages=[\n",
        "        {\n",
        "            \"role\": \"user\",\n",
        "            \"content\": \"Gere um JSON descrevendo uma pessoa, com os campos 'nome' e 'idade'.'\",\n",
        "        }\n",
        "    ],\n",
        "    response_format={\"type\": \"json_object\"},\n",
        ")\n",
        "\n",
        "print(resposta.message.content[0].text)"
      ],
      "metadata": {
        "colab": {
          "base_uri": "https://localhost:8080/"
        },
        "id": "8j0bD1guBJWL",
        "outputId": "fb38568d-c805-40be-c6b1-c2dc55ed2557"
      },
      "execution_count": 14,
      "outputs": [
        {
          "output_type": "stream",
          "name": "stdout",
          "text": [
            "{\"nome\": \"João Silva\", \"idade\": 30}\n"
          ]
        }
      ]
    },
    {
      "cell_type": "code",
      "source": [
        "import cohere\n",
        "\n",
        "cliente = cohere.ClientV2(api_key = COHERE_API_KEY, log_warning_experimental_features=False)\n",
        "\n",
        "resposta = cliente.chat(\n",
        "    model=\"command-a-03-2025\",\n",
        "    messages=[\n",
        "        {\n",
        "            \"role\": \"user\",\n",
        "            \"content\": \"Gere um JSON descrevendo um livro, com os campos 'título', 'autor' e 'ano_de_publicação'.'\",\n",
        "        }\n",
        "    ],\n",
        "    response_format={\n",
        "        \"type\": \"json_object\",\n",
        "        \"schema\": {\n",
        "            \"type\": \"object\",\n",
        "            \"properties\": {\n",
        "                \"title\": {\"type\": \"string\"},\n",
        "                \"author\": {\"type\": \"string\"},\n",
        "                \"publication_year\": {\"type\": \"integer\"},\n",
        "            },\n",
        "            \"required\": [\"title\", \"author\", \"publication_year\"],\n",
        "        },\n",
        "    },\n",
        ")\n",
        "\n",
        "print(resposta.message.content[0].text)"
      ],
      "metadata": {
        "colab": {
          "base_uri": "https://localhost:8080/"
        },
        "id": "fMyx85C9BfTh",
        "outputId": "884da8a9-0787-4d64-c884-a0372753f2fd"
      },
      "execution_count": 16,
      "outputs": [
        {
          "output_type": "stream",
          "name": "stdout",
          "text": [
            "{\"title\":\"1984\",\"author\":\"George Orwell\",\"publication_year\":1949}\n"
          ]
        }
      ]
    },
    {
      "cell_type": "markdown",
      "source": [
        "**Imagens**"
      ],
      "metadata": {
        "id": "igXUG8E5B8QP"
      }
    },
    {
      "cell_type": "markdown",
      "source": [
        "![waste-management-request.webp](data:image/webp;base64,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)"
      ],
      "metadata": {
        "id": "UuLRrv8HCaSd"
      }
    },
    {
      "cell_type": "code",
      "source": [
        "import cohere\n",
        "\n",
        "cliente = cohere.ClientV2(api_key = COHERE_API_KEY)\n",
        "\n",
        "imagem = {\n",
        "    \"type\": \"image_url\",\n",
        "    \"image_url\": {\n",
        "        \"url\": \"https://prod.ferndocs.com/_next/image?url=https%3A%2F%2Ffiles.buildwithfern.com%2Fcohere.docs.buildwithfern.com%2F2025-10-27T17%3A28%3A56.703Z%2Fassets%2Fimages%2Fwaste-management-request.png&w=3840&q=75\"\n",
        "    }\n",
        "}\n",
        "\n",
        "resposta = cliente.chat(\n",
        "    model=\"command-a-vision-07-2025\",\n",
        "    messages=[\n",
        "        {\n",
        "            \"role\": \"user\",\n",
        "            \"content\": [\n",
        "                {\"type\": \"text\", \"text\": \"Please create two markdown tables. One for Revenue. One for Revenue 3y CAGR. the company names should be in alphabetical order in both.\"},\n",
        "                imagem,\n",
        "            ],\n",
        "        }\n",
        "    ],\n",
        ")\n"
      ],
      "metadata": {
        "id": "DnaDkpWuB-My"
      },
      "execution_count": 28,
      "outputs": []
    },
    {
      "cell_type": "code",
      "source": [
        "from IPython.display import Markdown\n",
        "\n",
        "Markdown(resposta.message.content[0].text)"
      ],
      "metadata": {
        "colab": {
          "base_uri": "https://localhost:8080/",
          "height": 500
        },
        "id": "lubCWcXlDrqR",
        "outputId": "72785cfe-f210-452b-de52-75fdb2cb9060"
      },
      "execution_count": 30,
      "outputs": [
        {
          "output_type": "execute_result",
          "data": {
            "text/plain": [
              "<IPython.core.display.Markdown object>"
            ],
            "text/markdown": "Here are the two markdown tables you requested:\n\n### Revenue\n\n| Company           | December 2022 | December 2023 |\n|-------------------|---------------|---------------|\n| GFL Environmental | $1.30bn       | $1.40bn       |\n| Republic Services | $3.50bn       | $3.80bn       |\n| Waste Connections | $1.90bn       | $2.00bn       |\n| Waste Management  | $4.90bn       | $5.20bn       |\n\n### Revenue 3y CAGR\n\n| Company           | Revenue 3y CAGR |\n|-------------------|-----------------|\n| GFL Environmental | 5%              |\n| Republic Services | 15%             |\n| Waste Connections | 18%             |\n| Waste Management  | 21.44%          |\n\nThe companies are listed in alphabetical order in both tables. The Revenue table shows the revenue for each company in December 2022 and December 2023. The Revenue 3y CAGR table shows the three-year compound annual growth rate for each company's revenue."
          },
          "metadata": {},
          "execution_count": 30
        }
      ]
    },
    {
      "cell_type": "markdown",
      "source": [
        "A API de Chat permite que os usuários controlem o nível de \"detalhe\" da imagem enviada ao modelo, que pode ser `low`, `high` ou `auto` (valor default).\n",
        "\n",
        "Um nível de detalhe menor ajuda a reduzir a quantidade total de tokens (e, portanto, o preço e a latência), mas pode resultar em um desempenho inferior. Recomendamos testar os dois níveis de detalhe para verificar se o desempenho é suficiente no nível `low`.\n",
        "\n",
        "A propriedade de detalhe é especificada para cada imagem. Veja como fica:"
      ],
      "metadata": {
        "id": "Ua3Ne-NGFVis"
      }
    },
    {
      "cell_type": "code",
      "source": [
        "resposta = cliente.chat(\n",
        "  model=\"command-a-vision-07-2025\",\n",
        "  messages=[\n",
        "\t{ \"role\": \"user\", \"content\": [\n",
        "            {\"type\": \"text\",\n",
        "              \"text\": \"O que tem nessa imagem?\"\n",
        "              },\n",
        "            {\"type\": \"image_url\",\n",
        "            \"image_url\": {\n",
        "              \"url\": \"https://cohere.com/favicon-32x32.png\",\n",
        "              \"detail\": \"high\"\n",
        "          }\n",
        "        },\n",
        "      ]\n",
        "    }\n",
        "  ]\n",
        ")\n"
      ],
      "metadata": {
        "id": "seN6ti0lE11k"
      },
      "execution_count": 33,
      "outputs": []
    },
    {
      "cell_type": "code",
      "source": [
        "from IPython.display import Markdown\n",
        "\n",
        "Markdown(resposta.message.content[0].text)"
      ],
      "metadata": {
        "colab": {
          "base_uri": "https://localhost:8080/",
          "height": 116
        },
        "id": "DL1zZEFCFGly",
        "outputId": "6d12ffee-1848-46e7-9f86-2903bf2a1428"
      },
      "execution_count": 34,
      "outputs": [
        {
          "output_type": "execute_result",
          "data": {
            "text/plain": [
              "<IPython.core.display.Markdown object>"
            ],
            "text/markdown": "A imagem contém três formas geométricas simples. Há uma grande forma verde escuro na parte superior, que parece ser um retângulo arredondado ou um quadrado com cantos suaves. Abaixo disso, há duas formas menores: uma é um círculo laranja e a outra é um oval roxo. As formas estão dispostas em uma maneira que poderia ser interpretada como uma representação estilizada de um rosto, com a forma verde sendo o cabelo ou cabeça, o círculo laranja sendo o nariz e o oval roxo sendo a boca. No entanto, sem mais contexto, esta é apenas uma interpretação possível. As formas são apresentadas em um fundo branco, o que as torna bastante distintas e fácil de identificar."
          },
          "metadata": {},
          "execution_count": 34
        }
      ]
    },
    {
      "cell_type": "markdown",
      "source": [
        "**Referências**:\n",
        "\n",
        "> https://docs.cohere.com/docs/the-cohere-platform\n",
        "\n",
        "> https://docs.cohere.com/docs/chat-api\n",
        "\n",
        "> https://docs.cohere.com/docs/structured-outputs\n",
        "\n",
        "> https://docs.cohere.com/docs/image-inputs\n",
        "\n"
      ],
      "metadata": {
        "id": "EY-qwpC64NL1"
      }
    }
  ],
  "metadata": {
    "colab": {
      "provenance": [],
      "authorship_tag": "ABX9TyPDlYmaq/P2siGsXpo37oHe",
      "include_colab_link": true
    },
    "kernelspec": {
      "display_name": "Python 3",
      "name": "python3"
    }
  },
  "nbformat": 4,
  "nbformat_minor": 0
}