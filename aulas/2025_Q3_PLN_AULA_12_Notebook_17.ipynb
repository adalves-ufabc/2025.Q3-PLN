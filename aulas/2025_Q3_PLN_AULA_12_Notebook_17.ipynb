{
  "nbformat": 4,
  "nbformat_minor": 0,
  "metadata": {
    "colab": {
      "provenance": []
    },
    "kernelspec": {
      "name": "python3",
      "display_name": "Python 3"
    },
    "language_info": {
      "name": "python"
    }
  },
  "cells": [
    {
      "cell_type": "markdown",
      "source": [
        "# **Processamento de Linguagem Natural [2025-Q3]**\n",
        "Prof. Alexandre Donizeti Alves"
      ],
      "metadata": {
        "id": "tmcUYUiYozQ6"
      }
    },
    {
      "cell_type": "markdown",
      "source": [
        "### **BERT**"
      ],
      "metadata": {
        "id": "tXsTdaKeOCmH"
      }
    },
    {
      "cell_type": "code",
      "source": [
        "from transformers import BertTokenizer, BertModel\n",
        "import torch\n",
        "from sklearn.metrics.pairwise import cosine_similarity\n",
        "\n",
        "# Carregar o modelo BERT e o tokenizer\n",
        "model = BertModel.from_pretrained('bert-base-uncased')\n",
        "tokenizer = BertTokenizer.from_pretrained('bert-base-uncased')\n",
        "\n",
        "# Função para obter embedding da frase\n",
        "def get_embedding(phrase, model, tokenizer):\n",
        "    inputs = tokenizer(phrase, return_tensors='pt', truncation=True, padding=True)\n",
        "    outputs = model(**inputs)\n",
        "    return outputs.last_hidden_state.mean(dim=1).squeeze().detach().numpy()"
      ],
      "metadata": {
        "id": "rCLCM6IyAB7G"
      },
      "execution_count": null,
      "outputs": []
    },
    {
      "cell_type": "code",
      "source": [
        "# Definir as disciplinas e a palavra\n",
        "word = \"linguagens formais\"\n",
        "disciplinas = [\n",
        "    \"linguagens formais e autômatos\",\n",
        "    \"métodos formais\",\n",
        "    \"engenharia de software\",\n",
        "    \"comunicação e redes\",\n",
        "    \"natureza da informação\"\n",
        "]\n",
        "\n",
        "# obter o embedding para \"linguagens formais\"\n",
        "word_embedding = get_embedding(word, model, tokenizer)\n",
        "\n",
        "# obter os embeddings para as disciplinas\n",
        "disciplinas_embeddings = [(disciplina, get_embedding(disciplina, model, tokenizer)) for disciplina in disciplinas]\n",
        "\n",
        "# calcular a similaridade de cosseno\n",
        "similarities = []\n",
        "for disciplina, embedding in disciplinas_embeddings:\n",
        "    sim = cosine_similarity([word_embedding], [embedding])\n",
        "    similarities.append((disciplina, sim[0][0]))\n",
        "\n",
        "# ordenar pela similaridade\n",
        "similarities.sort(key=lambda x: x[1], reverse=True)\n",
        "\n",
        "# exibir a disciplina mais similar\n",
        "print(f\"A disciplina mais semelhante à palavra '{word}' é: {similarities[0][0]} com similaridade de {similarities[0][1]:.4f}\")\n"
      ],
      "metadata": {
        "id": "nfo6xayrM7fo"
      },
      "execution_count": null,
      "outputs": []
    },
    {
      "cell_type": "code",
      "source": [
        "similarities"
      ],
      "metadata": {
        "id": "36dJmS5LAWbY"
      },
      "execution_count": null,
      "outputs": []
    },
    {
      "cell_type": "markdown",
      "source": [
        "### **OpenAI**"
      ],
      "metadata": {
        "id": "YtQcChV4N-DE"
      }
    },
    {
      "cell_type": "code",
      "source": [
        "!pip install openai"
      ],
      "metadata": {
        "id": "cdueR2SKAwkx"
      },
      "execution_count": null,
      "outputs": []
    },
    {
      "cell_type": "code",
      "source": [
        "#@title Definindo a chave da API\n",
        "\n",
        "from getpass import getpass\n",
        "\n",
        "OPENAI_API_KEY = getpass()"
      ],
      "metadata": {
        "id": "h0o3aQLcwCxN"
      },
      "execution_count": null,
      "outputs": []
    },
    {
      "cell_type": "code",
      "source": [
        "import numpy as np\n",
        "from sklearn.metrics.pairwise import cosine_similarity\n",
        "\n",
        "from openai import OpenAI\n",
        "\n",
        "cliente = OpenAI( api_key= OPENAI_API_KEY )\n",
        "\n",
        "# função para obter o embedding de uma frase\n",
        "def get_embedding(text):\n",
        "    resposta = cliente.embeddings.create(\n",
        "        model = \"text-embedding-3-small\",  # modelo de embedding\n",
        "        input=text\n",
        "    )\n",
        "    return np.array(resposta.data[0].embedding)\n",
        "\n",
        "disciplinas = [\n",
        "    \"linguagens formais e autômatos\",\n",
        "    \"métodos formais\",\n",
        "    \"engenharia de software\",\n",
        "    \"comunicação e redes\",\n",
        "    \"natureza da informação\"\n",
        "]\n",
        "\n",
        "# obter os embeddings para as disciplinas\n",
        "disciplinas_embeddings = [(disciplina, get_embedding(disciplina)) for disciplina in disciplinas]"
      ],
      "metadata": {
        "id": "jii7PXjVAhOf"
      },
      "execution_count": null,
      "outputs": []
    },
    {
      "cell_type": "code",
      "source": [
        "word = \"engenharia\"\n",
        "\n",
        "# obter o embedding da palavra \"engenharia\"\n",
        "word_embedding = get_embedding(word)\n",
        "\n",
        "# Calcular a similaridade de cosseno entre \"engenharia\" e as disciplinas\n",
        "similarities = []\n",
        "for disciplina, embedding in disciplinas_embeddings:\n",
        "    sim = cosine_similarity([word_embedding], [embedding])\n",
        "    similarities.append((disciplina, sim[0][0]))\n",
        "\n",
        "# Ordenar pela similaridade\n",
        "similarities.sort(key=lambda x: x[1], reverse=True)\n",
        "\n",
        "# Exibir a disciplina mais semelhante\n",
        "print(f\"A disciplina mais semelhante à palavra '{word}' é: {similarities[0][0]} com similaridade de {similarities[0][1]:.4f}\")"
      ],
      "metadata": {
        "id": "mOhk3hG1S-mC"
      },
      "execution_count": null,
      "outputs": []
    },
    {
      "cell_type": "code",
      "source": [
        "similarities"
      ],
      "metadata": {
        "id": "x3AFO2_8A-kW"
      },
      "execution_count": null,
      "outputs": []
    },
    {
      "cell_type": "markdown",
      "source": [
        "### **Cohere**"
      ],
      "metadata": {
        "id": "oe5OjjK5Nzv4"
      }
    },
    {
      "cell_type": "code",
      "source": [
        "!pip install cohere"
      ],
      "metadata": {
        "id": "OTOKB-E5EMSd"
      },
      "execution_count": null,
      "outputs": []
    },
    {
      "cell_type": "code",
      "source": [
        "from getpass import getpass\n",
        "\n",
        "COHERE_API_KEY = getpass()"
      ],
      "metadata": {
        "id": "RpIP-jaKy4Kf"
      },
      "execution_count": null,
      "outputs": []
    },
    {
      "cell_type": "code",
      "source": [
        "import cohere\n",
        "from sklearn.metrics.pairwise import cosine_similarity\n",
        "\n",
        "# crie uma instância do cliente Cohere\n",
        "co = cohere.Client(COHERE_API_KEY)\n",
        "\n",
        "# função para obter embeddings (vetores) usando Cohere\n",
        "def get_embedding(text):\n",
        "    response = co.embed(texts=[text])\n",
        "    return response.embeddings[0]\n",
        "\n",
        "disciplinas = [\n",
        "    \"linguagens formais e autômatos\",\n",
        "    \"métodos formais\",\n",
        "    \"engenharia de software\",\n",
        "    \"comunicação e redes\",\n",
        "    \"natureza da informação\"\n",
        "]\n",
        "\n",
        "# obter os embeddings para a palavra e as disciplinas\n",
        "disciplinas_embeddings = [(disciplina, get_embedding(disciplina)) for disciplina in disciplinas]"
      ],
      "metadata": {
        "id": "TaelJENuESLH"
      },
      "execution_count": null,
      "outputs": []
    },
    {
      "cell_type": "code",
      "source": [
        "word = \"engenharia\"\n",
        "\n",
        "word_embedding = get_embedding(word)\n",
        "\n",
        "# calcular a similaridade de cosseno entre \"engenharia\" e as disciplinas\n",
        "similarities = []\n",
        "for disciplina, embedding in disciplinas_embeddings:\n",
        "    sim = cosine_similarity([word_embedding], [embedding])\n",
        "    similarities.append((disciplina, sim[0][0]))\n",
        "\n",
        "# ordenar as disciplinas por similaridade\n",
        "similarities.sort(key=lambda x: x[1], reverse=True)\n",
        "\n",
        "# exibir a disciplina mais semelhante\n",
        "print(f\"A disciplina mais semelhante à palavra '{word}' é: {similarities[0][0]} com similaridade de {similarities[0][1]:.4f}\")\n"
      ],
      "metadata": {
        "id": "A08KkMFlTgpC"
      },
      "execution_count": null,
      "outputs": []
    },
    {
      "cell_type": "code",
      "source": [
        "similarities"
      ],
      "metadata": {
        "id": "R5qzNFreEY6y"
      },
      "execution_count": null,
      "outputs": []
    },
    {
      "cell_type": "markdown",
      "source": [
        "### **Gemini**"
      ],
      "metadata": {
        "id": "47O0ypcbOpVw"
      }
    },
    {
      "cell_type": "code",
      "source": [
        "!pip install google-genai"
      ],
      "metadata": {
        "id": "rDddvPDiOt0y"
      },
      "execution_count": null,
      "outputs": []
    },
    {
      "cell_type": "code",
      "source": [
        "from getpass import getpass\n",
        "\n",
        "GEMINI_API_KEY = getpass()"
      ],
      "metadata": {
        "id": "dxzE7cFqzubV"
      },
      "execution_count": null,
      "outputs": []
    },
    {
      "cell_type": "code",
      "source": [
        "import numpy as np\n",
        "from sklearn.metrics.pairwise import cosine_similarity\n",
        "\n",
        "from google import genai\n",
        "\n",
        "cliente = genai.Client( api_key= GEMINI_API_KEY)\n",
        "\n",
        "# função para obter o embedding de uma frase\n",
        "def get_embedding(text):\n",
        "    resposta = cliente.models.embed_content(\n",
        "        model = \"gemini-embedding-001\",  # modelo de embedding\n",
        "        contents=[text]\n",
        "    )\n",
        "    # Extract the embedding values and convert to a numpy array\n",
        "    return np.array(resposta.embeddings[0].values)\n",
        "\n",
        "disciplinas = [\n",
        "    \"linguagens formais e autômatos\",\n",
        "    \"métodos formais\",\n",
        "    \"engenharia de software\",\n",
        "    \"comunicação e redes\",\n",
        "    \"natureza da informação\"\n",
        "]\n",
        "\n",
        "# obter os embeddings para as disciplinas\n",
        "disciplinas_embeddings = [(disciplina, get_embedding(disciplina)) for disciplina in disciplinas]"
      ],
      "metadata": {
        "id": "YUTXR_7Ez5Fa"
      },
      "execution_count": null,
      "outputs": []
    },
    {
      "cell_type": "code",
      "source": [
        "word = \"engenharia\"\n",
        "\n",
        "word_embedding = get_embedding(word)\n",
        "\n",
        "# calcular a similaridade de cosseno entre \"engenharia\" e as disciplinas\n",
        "similarities = []\n",
        "for disciplina, embedding in disciplinas_embeddings:\n",
        "    sim = cosine_similarity([word_embedding], [embedding])\n",
        "    similarities.append((disciplina, sim[0][0]))\n",
        "\n",
        "# ordenar as disciplinas por similaridade\n",
        "similarities.sort(key=lambda x: x[1], reverse=True)\n",
        "\n",
        "# exibir a disciplina mais semelhante\n",
        "print(f\"A disciplina mais semelhante à palavra '{word}' é: {similarities[0][0]} com similaridade de {similarities[0][1]:.4f}\")"
      ],
      "metadata": {
        "id": "TnuhzOsa0u_l"
      },
      "execution_count": null,
      "outputs": []
    },
    {
      "cell_type": "code",
      "source": [
        "similarities"
      ],
      "metadata": {
        "id": "DHWDPE_D1OiN"
      },
      "execution_count": null,
      "outputs": []
    },
    {
      "cell_type": "markdown",
      "source": [
        "### **Referências**"
      ],
      "metadata": {
        "id": "9v9wWdBN1Qbt"
      }
    },
    {
      "cell_type": "markdown",
      "source": [
        "https://platform.openai.com/docs/guides/embeddings"
      ],
      "metadata": {
        "id": "AJjfFa_nWO84"
      }
    },
    {
      "cell_type": "markdown",
      "source": [
        "https://ai.google.dev/gemini-api/docs/embeddings?hl=pt-br"
      ],
      "metadata": {
        "id": "Yq9JYlw1Wl-v"
      }
    },
    {
      "cell_type": "markdown",
      "source": [
        "https://docs.cohere.com/v2/docs/semantic-search-embed"
      ],
      "metadata": {
        "id": "LvsBs1JTaPqk"
      }
    }
  ]
}